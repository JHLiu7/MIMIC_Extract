{
 "cells": [
  {
   "cell_type": "code",
   "execution_count": 1,
   "metadata": {},
   "outputs": [],
   "source": [
    "%load_ext autoreload\n",
    "\n",
    "import os, sys\n",
    "sys.path.insert(0, '../')"
   ]
  },
  {
   "cell_type": "code",
   "execution_count": 2,
   "metadata": {},
   "outputs": [],
   "source": [
    "%autoreload\n",
    "from extract_utils.querier import *\n",
    "from extract_utils.display_utils import *\n",
    "\n",
    "import itertools, os, psycopg2, re, sys, time, numpy as np, pandas as pd\n",
    "from sklearn import metrics\n",
    "from datetime import datetime\n",
    "from datetime import timedelta\n",
    "from collections import Counter, defaultdict\n",
    "\n",
    "from os.path import isfile, isdir, splitext\n",
    "import argparse\n",
    "import pickle as cPickle\n",
    "import numpy.random as npr\n",
    "\n",
    "import matplotlib.pyplot as plt\n",
    "%matplotlib inline\n",
    "plt.style.use('ggplot')\n",
    "\n",
    "SQL_DIR = os.path.join('./SQL_Queries')\n",
    "STATICS_QUERY_PATH = os.path.join(SQL_DIR, 'statics.sql')\n",
    "LABS_QUERY_PATH = os.path.join(SQL_DIR, 'labs.sql')\n",
    "VITALS_QUERY_PATH = os.path.join(SQL_DIR, 'vitals.sql')\n",
    "TREATMENTS_QUERY_PATH = os.path.join(SQL_DIR, 'treatments.sql')\n",
    "CODES_QUERY_PATH = os.path.join(SQL_DIR, 'codes.sql')"
   ]
  },
  {
   "cell_type": "code",
   "execution_count": 3,
   "metadata": {},
   "outputs": [],
   "source": [
    "BLINDED = True"
   ]
  },
  {
   "cell_type": "markdown",
   "metadata": {},
   "source": [
    "# Questions on eICU\n",
    "  1. In `lab`, `labresultoffset` vs. `labresultrevisedoffset`?"
   ]
  },
  {
   "cell_type": "markdown",
   "metadata": {},
   "source": [
    "### Set up Args"
   ]
  },
  {
   "cell_type": "code",
   "execution_count": 4,
   "metadata": {},
   "outputs": [],
   "source": [
    "idx_slice = pd.IndexSlice"
   ]
  },
  {
   "cell_type": "code",
   "execution_count": 5,
   "metadata": {},
   "outputs": [],
   "source": [
    "args = {\n",
    "    # Querier Params\n",
    "    'psql_host': '/var/run/postgresql/',\n",
    "    \n",
    "    # Pop Restrictions\n",
    "    'pop_size': 3000000,\n",
    "    'min_age': 15,\n",
    "    'min_duration': 24,\n",
    "    'max_duration': 240,\n",
    "    'min_labs_thresh': 5,\n",
    "    \n",
    "    # Output directory\n",
    "    'out_path': '/crimea/latent_patient_trajectories/processed_data/eicu_extract.hdf'\n",
    "}"
   ]
  },
  {
   "cell_type": "markdown",
   "metadata": {},
   "source": [
    "### Set up Querier"
   ]
  },
  {
   "cell_type": "code",
   "execution_count": 6,
   "metadata": {},
   "outputs": [],
   "source": [
    "dbname = 'eicu'\n",
    "schema_name = 'public'\n",
    "query_args = {'dbname': dbname}\n",
    "if args['psql_host'] is not None: query_args['host'] = args['psql_host']\n",
    "# if args['psql_user'] is not None: query_args['user'] = args['psql_user']\n",
    "# if args['psql_password'] is not None: query_args['password'] = args['psql_password']\n",
    "\n",
    "querier = Querier(query_args=query_args, schema_name=schema_name)"
   ]
  },
  {
   "cell_type": "markdown",
   "metadata": {},
   "source": [
    "### Helper Functions"
   ]
  },
  {
   "cell_type": "code",
   "execution_count": 7,
   "metadata": {},
   "outputs": [],
   "source": [
    "def range_unnest(df, col, out_col_name=None, reset_index=False):\n",
    "    assert len(df.index.names) == 1, \"Does not support multi-index.\"\n",
    "    if out_col_name is None: out_col_name = col\n",
    "\n",
    "    col_flat = pd.DataFrame(\n",
    "        [[i, x] for i, y in df[col].iteritems() for x in range(y+1)],\n",
    "        columns=[df.index.names[0], out_col_name]\n",
    "    )\n",
    "\n",
    "    if not reset_index: col_flat = col_flat.set_index(df.index.names[0])\n",
    "    return col_flat"
   ]
  },
  {
   "cell_type": "markdown",
   "metadata": {},
   "source": [
    "### Extract Cohort"
   ]
  },
  {
   "cell_type": "code",
   "execution_count": 28,
   "metadata": {
    "scrolled": false
   },
   "outputs": [
    {
     "name": "stdout",
     "output_type": "stream",
     "text": [
      "Building data from scratch.\n",
      "Took 0.02217637300491333 minutes\n"
     ]
    }
   ],
   "source": [
    "#############\n",
    "# Population extraction\n",
    "\n",
    "start = time.time()\n",
    "\n",
    "print(\"Building data from scratch.\")\n",
    "pop_size_string = f\"LIMIT {args['pop_size']}\" if args['pop_size'] > 0 else \"\"\n",
    "\n",
    "min_age_string = str(args['min_age'])\n",
    "min_dur_string = str(args['min_duration'])\n",
    "max_dur_string = str(args['max_duration'])\n",
    "min_day_string = str(float(args['min_duration'])/24)\n",
    "\n",
    "template_vars = dict(\n",
    "    limit=pop_size_string, min_age=min_age_string, min_dur=min_dur_string, max_dur=max_dur_string,\n",
    "    min_day=min_day_string\n",
    ")\n",
    "\n",
    "data_df = querier.query(\n",
    "    query_file=STATICS_QUERY_PATH, extra_template_vars=template_vars\n",
    ")\n",
    "\n",
    "end = time.time()\n",
    "print(f\"Took {(end - start)/60} minutes\")"
   ]
  },
  {
   "cell_type": "code",
   "execution_count": 33,
   "metadata": {},
   "outputs": [
    {
     "name": "stdout",
     "output_type": "stream",
     "text": [
      "data_df.shape:  (103874, 22)\n"
     ]
    },
    {
     "data": {
      "text/html": [
       "<div>\n",
       "<style scoped>\n",
       "    .dataframe tbody tr th:only-of-type {\n",
       "        vertical-align: middle;\n",
       "    }\n",
       "\n",
       "    .dataframe tbody tr th {\n",
       "        vertical-align: top;\n",
       "    }\n",
       "\n",
       "    .dataframe thead th {\n",
       "        text-align: right;\n",
       "    }\n",
       "</style>\n",
       "<table border=\"1\" class=\"dataframe\">\n",
       "  <thead>\n",
       "    <tr style=\"text-align: right;\">\n",
       "      <th></th>\n",
       "      <th>subject_id</th>\n",
       "      <th>hadm_id</th>\n",
       "      <th>icustay_id</th>\n",
       "      <th>hospital_id</th>\n",
       "      <th>region</th>\n",
       "      <th>icustay_seq</th>\n",
       "      <th>gender</th>\n",
       "      <th>age</th>\n",
       "      <th>ethnicity</th>\n",
       "      <th>los_icu</th>\n",
       "      <th>...</th>\n",
       "      <th>intime</th>\n",
       "      <th>outtime</th>\n",
       "      <th>max_hours_unit</th>\n",
       "      <th>max_hours_hospital</th>\n",
       "      <th>deathtime</th>\n",
       "      <th>discharge_location</th>\n",
       "      <th>mort_hosp</th>\n",
       "      <th>mort_icu</th>\n",
       "      <th>hospital_discharge_year</th>\n",
       "      <th>unit_type</th>\n",
       "    </tr>\n",
       "  </thead>\n",
       "  <tbody>\n",
       "  </tbody>\n",
       "</table>\n",
       "<p>0 rows × 22 columns</p>\n",
       "</div>"
      ],
      "text/plain": [
       "Empty DataFrame\n",
       "Columns: [subject_id, hadm_id, icustay_id, hospital_id, region, icustay_seq, gender, age, ethnicity, los_icu, admittime, dischtime, intime, outtime, max_hours_unit, max_hours_hospital, deathtime, discharge_location, mort_hosp, mort_icu, hospital_discharge_year, unit_type]\n",
       "Index: []\n",
       "\n",
       "[0 rows x 22 columns]"
      ]
     },
     "metadata": {},
     "output_type": "display_data"
    }
   ],
   "source": [
    "blind_display(data_df, blinded=BLINDED)"
   ]
  },
  {
   "cell_type": "markdown",
   "metadata": {},
   "source": [
    "### Add exclusion criteria for remaining queries"
   ]
  },
  {
   "cell_type": "code",
   "execution_count": 10,
   "metadata": {},
   "outputs": [],
   "source": [
    "querier.add_exclusion_criteria_from_df(data_df, columns=['hadm_id', 'subject_id', 'icustay_id'])"
   ]
  },
  {
   "cell_type": "markdown",
   "metadata": {},
   "source": [
    "### Extract Labs"
   ]
  },
  {
   "cell_type": "code",
   "execution_count": 11,
   "metadata": {},
   "outputs": [],
   "source": [
    "##\n",
    "# Unit Conversion Explanations\n",
    "# 1 meq/ml  * (1 = 1000 ml / 1L) = # me1 / L\n",
    "# 1 mg/dl   * (1 = 1 (mmol/l) / 4.0078 (mg/dl)) = # mmol/l CALCIUM ONLY\n",
    "\n",
    "UNIT_CONVERSIONS = {\n",
    "    ('potassium', 'sodium', 'chloride'): (\n",
    "        'mmol/l', {('meq/l', 'mmoll'): 1, ('meq/ml',): 1000}\n",
    "    ),\n",
    "    'Hgb':              ('g/dl', {('gm/dl',): 1}),\n",
    "    'Hct':              ('%', {('%pcv',): 1}),\n",
    "    'calcium':          ('mmol/l', {('mg/dl',): 1/4.0078}),\n",
    "    'bicarbonate':      ('mmol/l', {('meq/l', 'mmole/l', 'meq/ml', 'mmoll'): 1}),\n",
    "    'platelets x 1000': ('k/ul', {\n",
    "        ('k/mcl', 'k/ul', 'k/mm3', 'k/cmm', 'th/ul', 'k/mmcu', 'th/mm3', '10e3/mcl',\n",
    "         'th/cmm', '10(3)/mcl', 'thou/cumm', 'x103/ul', '10*3/ul', '/nl', '10(3)mcl',\n",
    "         'x10e3/ul', 'ths/ul', '10', 'x10^3/ul', 'x(10)3/ul', '10x3', 'x10\"3',\n",
    "         'x10(3)', 'thou/cmm', 'thou/ul', '*10^3/ul', 'bil/l', '1000/cmm', '10e3/ul',\n",
    "         'x1000', 'x10*3', 'thousand', '10x3/ul', '10*9/l', 'k/cumm', 'x10(3)/mcl',\n",
    "         'th/cumm', 'x10-3', 'x103', '10e3', 'thd/ul', 'thou/mm3', 'thous/ul', '10*3',\n",
    "         '103/ul'): 1,\n",
    "    }),\n",
    "    'WBC x 1000':       ('k/ul', {\n",
    "        ('k/mcl', 'k/ul', 'k/mm3', 'k/cmm', 'th/mm3', 'k/mmcu', 'th/ul', '10(3)/mcl',\n",
    "         '10e3/mcl', 'th/cmm', 'thou/cumm', 'x103/ul', '10*3/ul', '/nl', 'ths/ul',\n",
    "         '10', 'x(10)3/ul', 'x10^3/ul', '10x3/mm', 'x10\"3', 'x10(3)', 'thou/cmm',\n",
    "         'thou/ul', '*10^3/ul', '1000/cmm', '10e3/ul', 'x1000', 'x10*3', '10*9/l',\n",
    "         '10x3/ul', 'k/cumm', 'x10e3/ul', 'th/cumm', 'x10(3)/mcl', 'x10-3', 'x103',\n",
    "         '10e3', '103/ul', 'thou/mm3', 'thous/ul', '10*3'): 1,\n",
    "    }),\n",
    "    'RBC':              ('m/ul', {\n",
    "        ('m/ul', 'mil/ul', 'm/mm3', 'mil/mcl', 'mil/mm3', '10(6)/cl', '10e6/mcl',\n",
    "         'mill/ul', 'x106/ul', '10*6/ul', 'x(10)6/ul', 'x10^6/ul', '*10^6/ul',\n",
    "         '10x6/mm', 'x10\"6', 'x10(6)', '*10^6/ul', '10e6/ul', 'x1000000', 'x10*6',\n",
    "         '10x6/ul', 'x10e6/ul', 'x10(6)/mcl', 'x10-6', 'x106', '10e6', '106/ul',\n",
    "         '10*6', 'mill/mm3', 'm/cmm', 'm/mmcu', 'mill/cumm', 'mil/cmm', 'mill/cmm',\n",
    "         'mi/cumm'): 1,\n",
    "    }),\n",
    "    'MCV':              ('fl', {('u3',): 1}),\n",
    "    'MCHC':             ('g/dl', {('%', 'gm/dl', 'g/dlrbc'): 1}), \n",
    "#     'RDW':              ()\n",
    "#     'MCH':              ()\n",
    "    'anion gap':        ('mmol/l', {('meq/l', 'mmoll'): 1}),\n",
    "}\n",
    "\n",
    "expanded_unit_conversion = {}\n",
    "for k, v in UNIT_CONVERSIONS.items():\n",
    "    if type(k) is str: expanded_unit_conversion[k] = v\n",
    "    else:\n",
    "        for e in k: expanded_unit_conversion[e] = v\n",
    "\n",
    "def unify_units(x):\n",
    "    if not x['valueuom_system']: return x['valueuom_interface']\n",
    "    elif not x['valueuom_interface']: return x['valueuom_system']\n",
    "    elif x['valueuom_interface'] == x['valueuom_system']: return x['valueuom_system']\n",
    "    elif x['itemid'] in expanded_unit_conversion:\n",
    "        out_unit, raw_unit_conv = expanded_unit_conversion[x['itemid']]\n",
    "        ks = list(raw_unit_conv.keys())\n",
    "        unit_equivalency_groups = [[out_unit]] + ks\n",
    "        unit_conv_factors = [1] + [raw_unit_conv[k] for k in ks]\n",
    "        \n",
    "        idx_system, idx_interface = None, None\n",
    "        for i, g in enumerate(unit_equivalency_groups):\n",
    "            if x['valueuom_interface'] in g: idx_interface = i\n",
    "            if x['valueuom_system'] in g: idx_system = i\n",
    "        \n",
    "        return x['valueuom_system'] if idx_system == idx_interface else ''\n",
    "    else: return ''"
   ]
  },
  {
   "cell_type": "code",
   "execution_count": 12,
   "metadata": {
    "scrolled": true
   },
   "outputs": [
    {
     "name": "stdout",
     "output_type": "stream",
     "text": [
      "Restricting -bands to just % (100.00%)\n",
      "Restricting -basos to just % (100.00%)\n",
      "Restricting -eos to just % (100.00%)\n",
      "Restricting -lymphs to just % (100.00%)\n",
      "Restricting -monos to just % (100.00%)\n",
      "Restricting -polys to just % (100.00%)\n",
      "Restricting 24 h urine protein to just mg/24hr (100.00%)\n",
      "Restricting 24 h urine urea nitrogen to just g/24hr (100.00%)\n",
      "Restricting ALT (SGPT) to just units/l (100.00%)\n",
      "Restricting ANF/ANA to just eu (65.88%)\n",
      "Restricting AST (SGOT) to just units/l (100.00%)\n",
      "Restricting Acetaminophen to just mcg/ml (100.00%)\n",
      "Restricting Amikacin - peak to just mcg/ml (100.00%)\n",
      "Restricting Amikacin - random to just mcg/ml (100.00%)\n",
      "Restricting Amikacin - trough to just mcg/ml (100.00%)\n",
      "Restricting BNP to just pg/ml (100.00%)\n",
      "Restricting BUN to just mg/dl (100.00%)\n",
      "Restricting Base Deficit to just meq/l (100.00%)\n",
      "Restricting Base Excess to just meq/l (100.00%)\n",
      "Restricting CPK to just units/l (100.00%)\n",
      "Restricting CPK-MB to just ng/ml (100.00%)\n",
      "Restricting CPK-MB INDEX to just % (100.00%)\n",
      "Restricting CRP to just mg/dl (100.00%)\n",
      "Restricting CRP-hs to just mg/l (100.00%)\n",
      "Restricting Carbamazepine to just mcg/ml (100.00%)\n",
      "Restricting Carboxyhemoglobin to just % (100.00%)\n",
      "Restricting Cyclosporin to just ng/ml (100.00%)\n",
      "Restricting Digoxin to just ng/ml (100.00%)\n",
      "Restricting ESR to just mm/hr (100.00%)\n",
      "Restricting Fe to just mcg/dl (100.00%)\n",
      "Restricting Fe/TIBC Ratio to just % (100.00%)\n",
      "Restricting Ferritin to just ng/ml (100.00%)\n",
      "Restricting FiO2 to just % (100.00%)\n",
      "Restricting Gentamicin - peak to just mcg/ml (100.00%)\n",
      "Restricting Gentamicin - random to just mcg/ml (100.00%)\n",
      "Restricting Gentamicin - trough to just mcg/ml (100.00%)\n",
      "Restricting HCO3 to just mmol/l (100.00%)\n",
      "Restricting HDL to just mg/dl (100.00%)\n",
      "Restricting HSV 1&2 IgG AB to just ai (100.00%)\n",
      "Restricting HSV 1&2 IgG AB titer to just index (100.00%)\n",
      "Restricting Hct to just % (100.00%)\n",
      "Restricting Hgb to just g/dl (100.00%)\n",
      "Restricting LDH to just units/l (100.00%)\n",
      "Restricting LDL to just mg/dl (100.00%)\n",
      "Restricting LPM O2 to just l/min (100.00%)\n",
      "Restricting Lidocaine to just mcg/ml (100.00%)\n",
      "Restricting Lithium to just mmol/l (100.00%)\n",
      "Restricting MCH to just pg (100.00%)\n",
      "Restricting MCHC to just g/dl (100.00%)\n",
      "Restricting MCV to just fl (100.00%)\n",
      "Restricting MPV to just fl (100.00%)\n",
      "Restricting Methemoglobin to just % (100.00%)\n",
      "Restricting O2 Content to just mls/dl (100.00%)\n",
      "Restricting O2 Sat (%) to just % (100.00%)\n",
      "Restricting Oxyhemoglobin to just % (100.00%)\n",
      "Restricting PEEP to just cmh2o (100.00%)\n",
      "Restricting PT to just sec (100.00%)\n",
      "Restricting PT - INR to just ratio (100.00%)\n",
      "Restricting PTT to just sec (100.00%)\n",
      "Restricting PTT ratio to just ratio (100.00%)\n",
      "Restricting Peak Airway/Pressure to just cmh2o (100.00%)\n",
      "Restricting Phenobarbital to just mcg/ml (100.00%)\n",
      "Restricting Phenytoin to just mcg/ml (100.00%)\n",
      "Restricting Pressure Control to just cmh2o (100.00%)\n",
      "Restricting Pressure Support to just cmh2o (100.00%)\n",
      "Restricting RBC to just m/mcl (100.00%)\n",
      "Restricting RDW to just % (100.00%)\n",
      "Restricting Respiratory Rate to just /min (100.00%)\n",
      "Restricting Spontaneous Rate to just /min (100.00%)\n",
      "Restricting T3 to just ng/dl (100.00%)\n",
      "Restricting T3RU to just % (100.00%)\n",
      "Restricting T4 to just mcg/dl (100.00%)\n",
      "Restricting TIBC to just mcg/dl (100.00%)\n",
      "Restricting TSH to just mcu/ml (100.00%)\n",
      "Restricting TV to just mls (100.00%)\n",
      "Restricting Tacrolimus-FK506 to just ng/ml (100.00%)\n",
      "Restricting Temperature to just &#176;c (100.00%)\n",
      "Restricting Theophylline to just mcg/ml (100.00%)\n",
      "Restricting Tobramycin - peak to just mcg/ml (100.00%)\n",
      "Restricting Tobramycin - random to just mcg/ml (100.00%)\n",
      "Restricting Tobramycin - trough to just mcg/ml (100.00%)\n",
      "Restricting Total CO2 to just mmol/l (90.96%)\n",
      "Restricting Vancomycin - peak to just mcg/ml (100.00%)\n",
      "Restricting Vancomycin - random to just mcg/ml (100.00%)\n",
      "Restricting Vancomycin - trough to just mcg/ml (100.00%)\n",
      "Restricting Vent Other to just l/min (100.00%)\n",
      "Restricting Vent Rate to just /min (100.00%)\n",
      "Restricting Vitamin B12 to just pg/ml (100.00%)\n",
      "Restricting WBC x 1000 to just k/mcl (100.00%)\n",
      "Restricting WBC's in body fluid to just /cumm (34.60%)\n",
      "Restricting WBC's in cerebrospinal fluid to just /cumm (37.54%)\n",
      "Restricting WBC's in pericardial fluid to just /cumm (69.57%)\n",
      "Restricting WBC's in peritoneal fluid to just /cumm (52.70%)\n",
      "Restricting WBC's in pleural fluid to just /cumm (33.15%)\n",
      "Restricting WBC's in synovial fluid to just /mcl (49.21%)\n",
      "Restricting WBC's in urine to just /hpf (77.15%)\n",
      "Restricting albumin to just g/dl (100.00%)\n",
      "Restricting alkaline phos. to just units/l (100.00%)\n",
      "Restricting ammonia to just mcg/dl (100.00%)\n",
      "Restricting amylase to just units/l (100.00%)\n",
      "Restricting anion gap to just mmol/l (94.37%)\n",
      "Restricting bedside glucose to just mg/dl (100.00%)\n",
      "Restricting bicarbonate to just mmol/l (100.00%)\n",
      "Restricting calcium to just mg/dl (100.00%)\n",
      "Restricting cd 4 to just % (44.59%)\n",
      "Restricting chloride to just mmol/l (100.00%)\n",
      "Restricting cortisol to just mcg/dl (100.00%)\n",
      "Restricting creatinine to just mg/dl (100.00%)\n",
      "Restricting direct bilirubin to just mg/dl (100.00%)\n",
      "Restricting ethanol to just mg/dl (100.00%)\n",
      "Restricting fibrinogen to just mg/dl (100.00%)\n",
      "Restricting folate to just ng/ml (100.00%)\n",
      "Restricting free T4 to just ng/dl (100.00%)\n",
      "Restricting glucose to just mg/dl (100.00%)\n",
      "Restricting glucose - CSF to just mg/dl (100.00%)\n",
      "Restricting haptoglobin to just mg/dl (100.00%)\n",
      "Restricting ionized calcium to just mg/dl (100.00%)\n",
      "Restricting lactate to just mmol/l (100.00%)\n",
      "Restricting lipase to just units/l (100.00%)\n",
      "Restricting magnesium to just mg/dl (100.00%)\n",
      "Restricting myoglobin to just ng/ml (100.00%)\n",
      "Restricting pH to just units (56.87%)\n",
      "Restricting paCO2 to just mmhg (100.00%)\n",
      "Restricting paO2 to just mmhg (100.00%)\n",
      "Restricting phosphate to just mg/dl (100.00%)\n",
      "Restricting platelets x 1000 to just k/mcl (100.00%)\n",
      "Restricting potassium to just mmol/l (100.00%)\n",
      "Restricting prealbumin to just mg/dl (100.00%)\n",
      "Restricting prolactin to just ng/ml (100.00%)\n",
      "Restricting protein - CSF to just mg/dl (100.00%)\n",
      "Restricting protein C to just % (100.00%)\n",
      "Restricting protein S to just % (100.00%)\n",
      "Restricting reticulocyte count to just % (100.00%)\n",
      "Restricting salicylate to just mg/dl (100.00%)\n",
      "Restricting serum ketones to just mmol/l (84.18%)\n",
      "Restricting serum osmolality to just mosm/kgh2o (100.00%)\n",
      "Restricting sodium to just mmol/l (100.00%)\n",
      "Restricting total bilirubin to just mg/dl (100.00%)\n",
      "Restricting total cholesterol to just mg/dl (100.00%)\n",
      "Restricting total protein to just g/dl (100.00%)\n",
      "Restricting transferrin to just mg/dl (100.00%)\n",
      "Restricting triglycerides to just mg/dl (100.00%)\n",
      "Restricting troponin - I to just ng/ml (100.00%)\n",
      "Restricting troponin - T to just ng/ml (100.00%)\n",
      "Restricting uric acid to just mg/dl (100.00%)\n",
      "Restricting urinary creatinine to just mg/dl (100.00%)\n",
      "Restricting urinary osmolality to just mosm/l (100.00%)\n",
      "Restricting urinary sodium to just mmol/l (100.00%)\n",
      "Restricting urinary specific gravity to just units (100.00%)\n",
      "Dropping invalid units. Pre-shape: (17421186, 8), Post-shape: (14829602, 8)\n",
      "labs_df.shape:  (14829602, 8)\n"
     ]
    },
    {
     "data": {
      "text/html": [
       "<div>\n",
       "<style scoped>\n",
       "    .dataframe tbody tr th:only-of-type {\n",
       "        vertical-align: middle;\n",
       "    }\n",
       "\n",
       "    .dataframe tbody tr th {\n",
       "        vertical-align: top;\n",
       "    }\n",
       "\n",
       "    .dataframe thead th {\n",
       "        text-align: right;\n",
       "    }\n",
       "</style>\n",
       "<table border=\"1\" class=\"dataframe\">\n",
       "  <thead>\n",
       "    <tr style=\"text-align: right;\">\n",
       "      <th></th>\n",
       "      <th>subject_id</th>\n",
       "      <th>hadm_id</th>\n",
       "      <th>icustay_id</th>\n",
       "      <th>hours_in</th>\n",
       "      <th>itemid</th>\n",
       "      <th>value</th>\n",
       "      <th>valueuom_unified</th>\n",
       "      <th>unified_unit</th>\n",
       "    </tr>\n",
       "  </thead>\n",
       "  <tbody>\n",
       "  </tbody>\n",
       "</table>\n",
       "</div>"
      ],
      "text/plain": [
       "Empty DataFrame\n",
       "Columns: [subject_id, hadm_id, icustay_id, hours_in, itemid, value, valueuom_unified, unified_unit]\n",
       "Index: []"
      ]
     },
     "metadata": {},
     "output_type": "display_data"
    },
    {
     "ename": "ValueError",
     "evalue": "Can only tuple-index with a MultiIndex",
     "output_type": "error",
     "traceback": [
      "\u001b[0;31m---------------------------------------------------------------------------\u001b[0m",
      "\u001b[0;31mValueError\u001b[0m                                Traceback (most recent call last)",
      "\u001b[0;32m<ipython-input-12-dde48564dbb9>\u001b[0m in \u001b[0;36m<module>\u001b[0;34m\u001b[0m\n\u001b[1;32m     97\u001b[0m \u001b[0mlabs_df_post_sort\u001b[0m \u001b[0;34m=\u001b[0m \u001b[0mlabs_df\u001b[0m\u001b[0;34m.\u001b[0m\u001b[0mcopy\u001b[0m\u001b[0;34m(\u001b[0m\u001b[0;34m)\u001b[0m\u001b[0;34m\u001b[0m\u001b[0;34m\u001b[0m\u001b[0m\n\u001b[1;32m     98\u001b[0m \u001b[0;34m\u001b[0m\u001b[0m\n\u001b[0;32m---> 99\u001b[0;31m \u001b[0mlab_counts\u001b[0m \u001b[0;34m=\u001b[0m \u001b[0mlabs_df\u001b[0m\u001b[0;34m.\u001b[0m\u001b[0mloc\u001b[0m\u001b[0;34m[\u001b[0m\u001b[0;34m:\u001b[0m\u001b[0;34m,\u001b[0m \u001b[0midx\u001b[0m\u001b[0;34m[\u001b[0m\u001b[0;34m:\u001b[0m\u001b[0;34m,\u001b[0m \u001b[0;34m'mean'\u001b[0m\u001b[0;34m]\u001b[0m\u001b[0;34m]\u001b[0m\u001b[0;34m.\u001b[0m\u001b[0mcount\u001b[0m\u001b[0;34m(\u001b[0m\u001b[0maxis\u001b[0m\u001b[0;34m=\u001b[0m\u001b[0;36m0\u001b[0m\u001b[0;34m)\u001b[0m\u001b[0;34m\u001b[0m\u001b[0;34m\u001b[0m\u001b[0m\n\u001b[0m\u001b[1;32m    100\u001b[0m \u001b[0mlab_counts\u001b[0m\u001b[0;34m.\u001b[0m\u001b[0mindex\u001b[0m \u001b[0;34m=\u001b[0m \u001b[0mlab_counts\u001b[0m\u001b[0;34m.\u001b[0m\u001b[0mindex\u001b[0m\u001b[0;34m.\u001b[0m\u001b[0mget_level_values\u001b[0m\u001b[0;34m(\u001b[0m\u001b[0;34m'itemid'\u001b[0m\u001b[0;34m)\u001b[0m\u001b[0;34m\u001b[0m\u001b[0;34m\u001b[0m\u001b[0m\n\u001b[1;32m    101\u001b[0m \u001b[0mlab_counts\u001b[0m \u001b[0;34m=\u001b[0m \u001b[0mlab_counts\u001b[0m\u001b[0;34m.\u001b[0m\u001b[0msort_values\u001b[0m\u001b[0;34m(\u001b[0m\u001b[0mascending\u001b[0m\u001b[0;34m=\u001b[0m\u001b[0;32mFalse\u001b[0m\u001b[0;34m)\u001b[0m\u001b[0;34m\u001b[0m\u001b[0;34m\u001b[0m\u001b[0m\n",
      "\u001b[0;32m/crimea/conda_envs/mimic_extract/lib/python3.6/site-packages/pandas/core/series.py\u001b[0m in \u001b[0;36m__getitem__\u001b[0;34m(self, key)\u001b[0m\n\u001b[1;32m    909\u001b[0m             \u001b[0mkey\u001b[0m \u001b[0;34m=\u001b[0m \u001b[0mcheck_bool_indexer\u001b[0m\u001b[0;34m(\u001b[0m\u001b[0mself\u001b[0m\u001b[0;34m.\u001b[0m\u001b[0mindex\u001b[0m\u001b[0;34m,\u001b[0m \u001b[0mkey\u001b[0m\u001b[0;34m)\u001b[0m\u001b[0;34m\u001b[0m\u001b[0;34m\u001b[0m\u001b[0m\n\u001b[1;32m    910\u001b[0m \u001b[0;34m\u001b[0m\u001b[0m\n\u001b[0;32m--> 911\u001b[0;31m         \u001b[0;32mreturn\u001b[0m \u001b[0mself\u001b[0m\u001b[0;34m.\u001b[0m\u001b[0m_get_with\u001b[0m\u001b[0;34m(\u001b[0m\u001b[0mkey\u001b[0m\u001b[0;34m)\u001b[0m\u001b[0;34m\u001b[0m\u001b[0;34m\u001b[0m\u001b[0m\n\u001b[0m\u001b[1;32m    912\u001b[0m \u001b[0;34m\u001b[0m\u001b[0m\n\u001b[1;32m    913\u001b[0m     \u001b[0;32mdef\u001b[0m \u001b[0m_get_with\u001b[0m\u001b[0;34m(\u001b[0m\u001b[0mself\u001b[0m\u001b[0;34m,\u001b[0m \u001b[0mkey\u001b[0m\u001b[0;34m)\u001b[0m\u001b[0;34m:\u001b[0m\u001b[0;34m\u001b[0m\u001b[0;34m\u001b[0m\u001b[0m\n",
      "\u001b[0;32m/crimea/conda_envs/mimic_extract/lib/python3.6/site-packages/pandas/core/series.py\u001b[0m in \u001b[0;36m_get_with\u001b[0;34m(self, key)\u001b[0m\n\u001b[1;32m    921\u001b[0m         \u001b[0;32melif\u001b[0m \u001b[0misinstance\u001b[0m\u001b[0;34m(\u001b[0m\u001b[0mkey\u001b[0m\u001b[0;34m,\u001b[0m \u001b[0mtuple\u001b[0m\u001b[0;34m)\u001b[0m\u001b[0;34m:\u001b[0m\u001b[0;34m\u001b[0m\u001b[0;34m\u001b[0m\u001b[0m\n\u001b[1;32m    922\u001b[0m             \u001b[0;32mtry\u001b[0m\u001b[0;34m:\u001b[0m\u001b[0;34m\u001b[0m\u001b[0;34m\u001b[0m\u001b[0m\n\u001b[0;32m--> 923\u001b[0;31m                 \u001b[0;32mreturn\u001b[0m \u001b[0mself\u001b[0m\u001b[0;34m.\u001b[0m\u001b[0m_get_values_tuple\u001b[0m\u001b[0;34m(\u001b[0m\u001b[0mkey\u001b[0m\u001b[0;34m)\u001b[0m\u001b[0;34m\u001b[0m\u001b[0;34m\u001b[0m\u001b[0m\n\u001b[0m\u001b[1;32m    924\u001b[0m             \u001b[0;32mexcept\u001b[0m \u001b[0mException\u001b[0m\u001b[0;34m:\u001b[0m\u001b[0;34m\u001b[0m\u001b[0;34m\u001b[0m\u001b[0m\n\u001b[1;32m    925\u001b[0m                 \u001b[0;32mif\u001b[0m \u001b[0mlen\u001b[0m\u001b[0;34m(\u001b[0m\u001b[0mkey\u001b[0m\u001b[0;34m)\u001b[0m \u001b[0;34m==\u001b[0m \u001b[0;36m1\u001b[0m\u001b[0;34m:\u001b[0m\u001b[0;34m\u001b[0m\u001b[0;34m\u001b[0m\u001b[0m\n",
      "\u001b[0;32m/crimea/conda_envs/mimic_extract/lib/python3.6/site-packages/pandas/core/series.py\u001b[0m in \u001b[0;36m_get_values_tuple\u001b[0;34m(self, key)\u001b[0m\n\u001b[1;32m    966\u001b[0m \u001b[0;34m\u001b[0m\u001b[0m\n\u001b[1;32m    967\u001b[0m         \u001b[0;32mif\u001b[0m \u001b[0;32mnot\u001b[0m \u001b[0misinstance\u001b[0m\u001b[0;34m(\u001b[0m\u001b[0mself\u001b[0m\u001b[0;34m.\u001b[0m\u001b[0mindex\u001b[0m\u001b[0;34m,\u001b[0m \u001b[0mMultiIndex\u001b[0m\u001b[0;34m)\u001b[0m\u001b[0;34m:\u001b[0m\u001b[0;34m\u001b[0m\u001b[0;34m\u001b[0m\u001b[0m\n\u001b[0;32m--> 968\u001b[0;31m             \u001b[0;32mraise\u001b[0m \u001b[0mValueError\u001b[0m\u001b[0;34m(\u001b[0m\u001b[0;34m'Can only tuple-index with a MultiIndex'\u001b[0m\u001b[0;34m)\u001b[0m\u001b[0;34m\u001b[0m\u001b[0;34m\u001b[0m\u001b[0m\n\u001b[0m\u001b[1;32m    969\u001b[0m \u001b[0;34m\u001b[0m\u001b[0m\n\u001b[1;32m    970\u001b[0m         \u001b[0;31m# If key is contained, would have returned by now\u001b[0m\u001b[0;34m\u001b[0m\u001b[0;34m\u001b[0m\u001b[0;34m\u001b[0m\u001b[0m\n",
      "\u001b[0;31mValueError\u001b[0m: Can only tuple-index with a MultiIndex"
     ]
    }
   ],
   "source": [
    "start = time.time()\n",
    "labs_df = querier.query(query_file=LABS_QUERY_PATH)\n",
    "raw_labs_df = labs_df.copy()\n",
    "\n",
    "for col in ['valueuom_system', 'valueuom_interface']:\n",
    "    labs_df[col] = labs_df[col].str.lower().str.replace(\" \", \"\")\n",
    "\n",
    "labs_df['valueuom_unified'] = labs_df[\n",
    "    ['itemid', 'valueuom_system', 'valueuom_interface']\n",
    "].apply(\n",
    "    unify_units, axis=1\n",
    ")\n",
    "\n",
    "for itemid, (out_unit, unit_conv_dict) in expanded_unit_conversion.items():\n",
    "    already_done_idx = None\n",
    "    for conv_list, conv_factor in unit_conv_dict.items():\n",
    "        idx = (labs_df.itemid == itemid) & labs_df.valueuom_unified.isin(conv_list)\n",
    "        labs_df.loc[idx, 'value'] = labs_df.loc[idx, 'value'] * conv_factor\n",
    "        labs_df.loc[idx, 'unified_unit'] = out_unit\n",
    "        \n",
    "        if already_done_idx is None: already_done_idx = idx\n",
    "        else: \n",
    "            double_converted = (idx & already_done_idx).sum()\n",
    "            if double_converted > 0: print(\n",
    "                f\"Double converted {double_converted} on {itemid}, {out_unit}\"\n",
    "            )\n",
    "            already_done_idx = already_done_idx | idx\n",
    "            \n",
    "counter_uoms_by_itemid = labs_df.groupby(by='itemid')[\n",
    "    ['valueuom_system', 'valueuom_interface', 'valueuom_unified']\n",
    "].agg(lambda x: Counter(e.replace(' ', '') for e in x.str.lower() if e))\n",
    "counter_uoms_by_itemid['valueuom_overall'] = counter_uoms_by_itemid.apply(\n",
    "    lambda x: Counter(x['valueuom_system']) + Counter(x['valueuom_interface']), axis=1\n",
    ")\n",
    "\n",
    "labs_df.drop(columns=['valueuom_system', 'valueuom_interface'], inplace=True)\n",
    "valid_idx = None\n",
    "for itemid, uom_ctr in counter_uoms_by_itemid['valueuom_unified'].iteritems():\n",
    "    if not uom_ctr: continue\n",
    "    most_common_uom, cnt = uom_ctr.most_common(1)[0]\n",
    "    total = sum(uom_ctr.values())\n",
    "    print(f\"Restricting {itemid} to just {most_common_uom} ({100*cnt/total:.2f}%)\")\n",
    "    idx = (labs_df.itemid == itemid) & (labs_df.valueuom_unified == most_common_uom)\n",
    "    if valid_idx is None: valid_idx = idx\n",
    "    else: valid_idx |= idx\n",
    "        \n",
    "pre_shape = labs_df.shape\n",
    "labs_df = labs_df.loc[valid_idx]\n",
    "post_shape = labs_df.shape\n",
    "print(f\"Dropping invalid units. Pre-shape: {pre_shape}, Post-shape: {post_shape}\")\n",
    "\n",
    "labs_df.value = pd.to_numeric(labs_df.value, 'coerce')\n",
    "\n",
    "blind_display(labs_df, blinded=BLINDED)\n",
    "\n",
    "labs_df.drop(inplace=True, columns=['valueuom_unified'])\n",
    "labs_df = labs_df.groupby(\n",
    "    ['subject_id', 'hadm_id', 'icustay_id', 'itemid', 'hours_in']\n",
    ").agg(['mean', 'std', 'count'])\n",
    "\n",
    "labs_df.columns = labs_df.columns.droplevel(0)\n",
    "labs_df.columns.names = ['Aggregation Function']\n",
    "\n",
    "missing_hours_fill = range_unnest(\n",
    "    data_df.set_index('icustay_id'), 'max_hours_unit', out_col_name='hours_in',\n",
    "    reset_index=True\n",
    ")\n",
    "missing_hours_fill['tmp'] = np.NaN\n",
    "\n",
    "fill_df = data_df[['icustay_id', 'hadm_id', 'subject_id']].join(\n",
    "    missing_hours_fill.set_index('icustay_id'), on='icustay_id'\n",
    ")\n",
    "N = fill_df.shape[0]\n",
    "\n",
    "count_per_itemid = labs_df.groupby('itemid')['mean'].count()\n",
    "measurement_freq_per_itemid = count_per_itemid / N\n",
    "\n",
    "valid_itemids = measurement_freq_per_itemid[\n",
    "    measurement_freq_per_itemid > (args['min_labs_thresh']/100)\n",
    "]\n",
    "\n",
    "labs_df_pre_unstack = labs_df.copy()\n",
    "labs_df = labs_df[labs_df.index.get_level_values('itemid').isin(valid_itemids.index)]\n",
    "\n",
    "labs_df = labs_df.unstack(level=['itemid'])\n",
    "labs_df_post_unstack = labs_df.copy()\n",
    "\n",
    "fill_df.set_index(labs_df.index.names, inplace=True)\n",
    "\n",
    "labs_df.columns = labs_df.columns.reorder_levels(\n",
    "    order=['itemid', 'Aggregation Function']\n",
    ")\n",
    "labs_df = labs_df.reindex(fill_df.index)\n",
    "labs_df_post_reindex = labs_df.copy()\n",
    "\n",
    "labs_df = labs_df.sort_index(axis=0).sort_index(axis=1)\n",
    "labs_df_post_sort = labs_df.copy()\n",
    "\n",
    "lab_counts = labs_df.loc[:, idx_slice[:, 'mean']].count(axis=0)\n",
    "lab_counts.index = lab_counts.index.get_level_values('itemid')\n",
    "lab_counts = lab_counts.sort_values(ascending=False)\n",
    "\n",
    "end = time.time()\n",
    "print(f\"Took {(end - start)/60} minutes\")"
   ]
  },
  {
   "cell_type": "code",
   "execution_count": 14,
   "metadata": {},
   "outputs": [
    {
     "name": "stdout",
     "output_type": "stream",
     "text": [
      "labs_df.shape:  (7221824, 51)\n"
     ]
    },
    {
     "data": {
      "text/html": [
       "<div>\n",
       "<style scoped>\n",
       "    .dataframe tbody tr th:only-of-type {\n",
       "        vertical-align: middle;\n",
       "    }\n",
       "\n",
       "    .dataframe tbody tr th {\n",
       "        vertical-align: top;\n",
       "    }\n",
       "\n",
       "    .dataframe thead tr th {\n",
       "        text-align: left;\n",
       "    }\n",
       "\n",
       "    .dataframe thead tr:last-of-type th {\n",
       "        text-align: right;\n",
       "    }\n",
       "</style>\n",
       "<table border=\"1\" class=\"dataframe\">\n",
       "  <thead>\n",
       "    <tr>\n",
       "      <th></th>\n",
       "      <th></th>\n",
       "      <th></th>\n",
       "      <th>itemid</th>\n",
       "      <th colspan=\"3\" halign=\"left\">BUN</th>\n",
       "      <th colspan=\"3\" halign=\"left\">Hct</th>\n",
       "      <th colspan=\"3\" halign=\"left\">Hgb</th>\n",
       "      <th>MCH</th>\n",
       "      <th>...</th>\n",
       "      <th>glucose</th>\n",
       "      <th colspan=\"3\" halign=\"left\">platelets x 1000</th>\n",
       "      <th colspan=\"3\" halign=\"left\">potassium</th>\n",
       "      <th colspan=\"3\" halign=\"left\">sodium</th>\n",
       "    </tr>\n",
       "    <tr>\n",
       "      <th></th>\n",
       "      <th></th>\n",
       "      <th></th>\n",
       "      <th>Aggregation Function</th>\n",
       "      <th>count</th>\n",
       "      <th>mean</th>\n",
       "      <th>std</th>\n",
       "      <th>count</th>\n",
       "      <th>mean</th>\n",
       "      <th>std</th>\n",
       "      <th>count</th>\n",
       "      <th>mean</th>\n",
       "      <th>std</th>\n",
       "      <th>count</th>\n",
       "      <th>...</th>\n",
       "      <th>std</th>\n",
       "      <th>count</th>\n",
       "      <th>mean</th>\n",
       "      <th>std</th>\n",
       "      <th>count</th>\n",
       "      <th>mean</th>\n",
       "      <th>std</th>\n",
       "      <th>count</th>\n",
       "      <th>mean</th>\n",
       "      <th>std</th>\n",
       "    </tr>\n",
       "    <tr>\n",
       "      <th>subject_id</th>\n",
       "      <th>hadm_id</th>\n",
       "      <th>icustay_id</th>\n",
       "      <th>hours_in</th>\n",
       "      <th></th>\n",
       "      <th></th>\n",
       "      <th></th>\n",
       "      <th></th>\n",
       "      <th></th>\n",
       "      <th></th>\n",
       "      <th></th>\n",
       "      <th></th>\n",
       "      <th></th>\n",
       "      <th></th>\n",
       "      <th></th>\n",
       "      <th></th>\n",
       "      <th></th>\n",
       "      <th></th>\n",
       "      <th></th>\n",
       "      <th></th>\n",
       "      <th></th>\n",
       "      <th></th>\n",
       "      <th></th>\n",
       "      <th></th>\n",
       "      <th></th>\n",
       "    </tr>\n",
       "  </thead>\n",
       "  <tbody>\n",
       "  </tbody>\n",
       "</table>\n",
       "<p>0 rows × 51 columns</p>\n",
       "</div>"
      ],
      "text/plain": [
       "Empty DataFrame\n",
       "Columns: [(BUN, count), (BUN, mean), (BUN, std), (Hct, count), (Hct, mean), (Hct, std), (Hgb, count), (Hgb, mean), (Hgb, std), (MCH, count), (MCH, mean), (MCH, std), (MCHC, count), (MCHC, mean), (MCHC, std), (MCV, count), (MCV, mean), (MCV, std), (RDW, count), (RDW, mean), (RDW, std), (WBC x 1000, count), (WBC x 1000, mean), (WBC x 1000, std), (bedside glucose, count), (bedside glucose, mean), (bedside glucose, std), (bicarbonate, count), (bicarbonate, mean), (bicarbonate, std), (calcium, count), (calcium, mean), (calcium, std), (chloride, count), (chloride, mean), (chloride, std), (creatinine, count), (creatinine, mean), (creatinine, std), (glucose, count), (glucose, mean), (glucose, std), (platelets x 1000, count), (platelets x 1000, mean), (platelets x 1000, std), (potassium, count), (potassium, mean), (potassium, std), (sodium, count), (sodium, mean), (sodium, std)]\n",
       "Index: []\n",
       "\n",
       "[0 rows x 51 columns]"
      ]
     },
     "metadata": {},
     "output_type": "display_data"
    }
   ],
   "source": [
    "blind_display(labs_df, blinded=BLINDED)"
   ]
  },
  {
   "cell_type": "markdown",
   "metadata": {},
   "source": [
    "### Extract Vitals"
   ]
  },
  {
   "cell_type": "code",
   "execution_count": 15,
   "metadata": {},
   "outputs": [
    {
     "name": "stdout",
     "output_type": "stream",
     "text": [
      "vitals_df.shape:  (14014167, 30)\n"
     ]
    },
    {
     "data": {
      "text/html": [
       "<div>\n",
       "<style scoped>\n",
       "    .dataframe tbody tr th:only-of-type {\n",
       "        vertical-align: middle;\n",
       "    }\n",
       "\n",
       "    .dataframe tbody tr th {\n",
       "        vertical-align: top;\n",
       "    }\n",
       "\n",
       "    .dataframe thead th {\n",
       "        text-align: right;\n",
       "    }\n",
       "</style>\n",
       "<table border=\"1\" class=\"dataframe\">\n",
       "  <thead>\n",
       "    <tr style=\"text-align: right;\">\n",
       "      <th></th>\n",
       "      <th>subject_id</th>\n",
       "      <th>hadm_id</th>\n",
       "      <th>icustay_id</th>\n",
       "      <th>hours_in</th>\n",
       "      <th>temperature</th>\n",
       "      <th>sao2</th>\n",
       "      <th>heart_rate</th>\n",
       "      <th>respiratory_rate</th>\n",
       "      <th>cvp</th>\n",
       "      <th>etco2</th>\n",
       "      <th>...</th>\n",
       "      <th>noninvasive_systolic</th>\n",
       "      <th>noninvasive_diastolic</th>\n",
       "      <th>noninvasive_mean</th>\n",
       "      <th>paop</th>\n",
       "      <th>cardiac_output</th>\n",
       "      <th>cardiac_input</th>\n",
       "      <th>svr</th>\n",
       "      <th>svri</th>\n",
       "      <th>pvr</th>\n",
       "      <th>pvri</th>\n",
       "    </tr>\n",
       "  </thead>\n",
       "  <tbody>\n",
       "  </tbody>\n",
       "</table>\n",
       "<p>0 rows × 30 columns</p>\n",
       "</div>"
      ],
      "text/plain": [
       "Empty DataFrame\n",
       "Columns: [subject_id, hadm_id, icustay_id, hours_in, temperature, sao2, heart_rate, respiratory_rate, cvp, etco2, systemic_systolic, systemic_diastolic, systemic_mean, pa_systolic, pa_diastolic, pa_mean, st1, st2, st3, icp, noninvasive_systolic, noninvasive_diastolic, noninvasive_mean, paop, cardiac_output, cardiac_input, svr, svri, pvr, pvri]\n",
       "Index: []\n",
       "\n",
       "[0 rows x 30 columns]"
      ]
     },
     "metadata": {},
     "output_type": "display_data"
    },
    {
     "name": "stdout",
     "output_type": "stream",
     "text": [
      "Took 7.6483588218688965 minutes\n"
     ]
    }
   ],
   "source": [
    "start = time.time()\n",
    "\n",
    "vitals_df = querier.query(query_file=VITALS_QUERY_PATH)\n",
    "vitals_df_raw = vitals_df.copy()\n",
    "blind_display(vitals_df, blinded=BLINDED)\n",
    "\n",
    "vitals_df.set_index(labs_df.index.names, inplace=True)\n",
    "for col in vitals_df:\n",
    "    vitals_df[col] = pd.to_numeric(vitals_df[col], 'coerce')\n",
    "vitals_df = vitals_df.groupby(vitals_df.index.names).agg(['count', 'mean', 'std'])\n",
    "    \n",
    "count_per_vital = vitals_df.loc[:, idx_slice[:, 'mean']].count(axis=0)\n",
    "measurement_freq_per_vital = count_per_vital / N\n",
    "\n",
    "invalid_vitals = [x[0] for x in measurement_freq_per_vital[\n",
    "    measurement_freq_per_vital <= (args['min_labs_thresh']/100)\n",
    "].index]\n",
    "vitals_df.drop(columns=[\n",
    "    (k, a) for k, a in itertools.product(invalid_vitals, ('count', 'mean', 'std'))\n",
    "], inplace=True)\n",
    "vitals_df.loc[:, idx_slice[:, 'count']] = vitals_df.loc[\n",
    "    :, idx_slice[:, 'count']\n",
    "].fillna(0)\n",
    "    \n",
    "vitals_df.columns.names = labs_df.columns.names\n",
    "\n",
    "labs_and_vitals_df = labs_df.join(vitals_df, how='outer')\n",
    "\n",
    "end = time.time()\n",
    "print(f\"Took {(end - start) / 60} minutes\")"
   ]
  },
  {
   "cell_type": "code",
   "execution_count": 16,
   "metadata": {},
   "outputs": [],
   "source": [
    "count_per_vital = vitals_df.loc[:, idx_slice[:, 'mean']].count(axis=0)\n",
    "measurement_freq_per_vital = count_per_vital / N\n",
    "\n",
    "invalid_vitals = [x[0] for x in measurement_freq_per_vital[\n",
    "    measurement_freq_per_vital <= (args['min_labs_thresh']/100)\n",
    "].index]\n",
    "vitals_df.drop(columns=[\n",
    "    (k, a) for k, a in itertools.product(invalid_vitals, ('count', 'mean', 'std'))\n",
    "], inplace=True)\n",
    "vitals_df.loc[:, idx_slice[:, 'count']] = vitals_df.loc[\n",
    "    :, idx_slice[:, 'count']\n",
    "].fillna(0)\n",
    "    \n",
    "vitals_df.columns.names = labs_df.columns.names\n",
    "\n",
    "labs_and_vitals_df = labs_df.join(vitals_df, how='outer')\n"
   ]
  },
  {
   "cell_type": "code",
   "execution_count": 17,
   "metadata": {
    "scrolled": true
   },
   "outputs": [
    {
     "name": "stdout",
     "output_type": "stream",
     "text": [
      "labs_and_vitals_df.shape:  (7237510, 78)\n"
     ]
    },
    {
     "data": {
      "text/html": [
       "<div>\n",
       "<style scoped>\n",
       "    .dataframe tbody tr th:only-of-type {\n",
       "        vertical-align: middle;\n",
       "    }\n",
       "\n",
       "    .dataframe tbody tr th {\n",
       "        vertical-align: top;\n",
       "    }\n",
       "\n",
       "    .dataframe thead tr th {\n",
       "        text-align: left;\n",
       "    }\n",
       "\n",
       "    .dataframe thead tr:last-of-type th {\n",
       "        text-align: right;\n",
       "    }\n",
       "</style>\n",
       "<table border=\"1\" class=\"dataframe\">\n",
       "  <thead>\n",
       "    <tr>\n",
       "      <th></th>\n",
       "      <th></th>\n",
       "      <th></th>\n",
       "      <th>itemid</th>\n",
       "      <th colspan=\"3\" halign=\"left\">BUN</th>\n",
       "      <th colspan=\"3\" halign=\"left\">Hct</th>\n",
       "      <th colspan=\"3\" halign=\"left\">Hgb</th>\n",
       "      <th>MCH</th>\n",
       "      <th>...</th>\n",
       "      <th>st3</th>\n",
       "      <th colspan=\"3\" halign=\"left\">noninvasive_systolic</th>\n",
       "      <th colspan=\"3\" halign=\"left\">noninvasive_diastolic</th>\n",
       "      <th colspan=\"3\" halign=\"left\">noninvasive_mean</th>\n",
       "    </tr>\n",
       "    <tr>\n",
       "      <th></th>\n",
       "      <th></th>\n",
       "      <th></th>\n",
       "      <th>Aggregation Function</th>\n",
       "      <th>count</th>\n",
       "      <th>mean</th>\n",
       "      <th>std</th>\n",
       "      <th>count</th>\n",
       "      <th>mean</th>\n",
       "      <th>std</th>\n",
       "      <th>count</th>\n",
       "      <th>mean</th>\n",
       "      <th>std</th>\n",
       "      <th>count</th>\n",
       "      <th>...</th>\n",
       "      <th>std</th>\n",
       "      <th>count</th>\n",
       "      <th>mean</th>\n",
       "      <th>std</th>\n",
       "      <th>count</th>\n",
       "      <th>mean</th>\n",
       "      <th>std</th>\n",
       "      <th>count</th>\n",
       "      <th>mean</th>\n",
       "      <th>std</th>\n",
       "    </tr>\n",
       "    <tr>\n",
       "      <th>subject_id</th>\n",
       "      <th>hadm_id</th>\n",
       "      <th>icustay_id</th>\n",
       "      <th>hours_in</th>\n",
       "      <th></th>\n",
       "      <th></th>\n",
       "      <th></th>\n",
       "      <th></th>\n",
       "      <th></th>\n",
       "      <th></th>\n",
       "      <th></th>\n",
       "      <th></th>\n",
       "      <th></th>\n",
       "      <th></th>\n",
       "      <th></th>\n",
       "      <th></th>\n",
       "      <th></th>\n",
       "      <th></th>\n",
       "      <th></th>\n",
       "      <th></th>\n",
       "      <th></th>\n",
       "      <th></th>\n",
       "      <th></th>\n",
       "      <th></th>\n",
       "      <th></th>\n",
       "    </tr>\n",
       "  </thead>\n",
       "  <tbody>\n",
       "  </tbody>\n",
       "</table>\n",
       "<p>0 rows × 78 columns</p>\n",
       "</div>"
      ],
      "text/plain": [
       "Empty DataFrame\n",
       "Columns: [(BUN, count), (BUN, mean), (BUN, std), (Hct, count), (Hct, mean), (Hct, std), (Hgb, count), (Hgb, mean), (Hgb, std), (MCH, count), (MCH, mean), (MCH, std), (MCHC, count), (MCHC, mean), (MCHC, std), (MCV, count), (MCV, mean), (MCV, std), (RDW, count), (RDW, mean), (RDW, std), (WBC x 1000, count), (WBC x 1000, mean), (WBC x 1000, std), (bedside glucose, count), (bedside glucose, mean), (bedside glucose, std), (bicarbonate, count), (bicarbonate, mean), (bicarbonate, std), (calcium, count), (calcium, mean), (calcium, std), (chloride, count), (chloride, mean), (chloride, std), (creatinine, count), (creatinine, mean), (creatinine, std), (glucose, count), (glucose, mean), (glucose, std), (platelets x 1000, count), (platelets x 1000, mean), (platelets x 1000, std), (potassium, count), (potassium, mean), (potassium, std), (sodium, count), (sodium, mean), (sodium, std), (sao2, count), (sao2, mean), (sao2, std), (heart_rate, count), (heart_rate, mean), (heart_rate, std), (respiratory_rate, count), (respiratory_rate, mean), (respiratory_rate, std), (st1, count), (st1, mean), (st1, std), (st2, count), (st2, mean), (st2, std), (st3, count), (st3, mean), (st3, std), (noninvasive_systolic, count), (noninvasive_systolic, mean), (noninvasive_systolic, std), (noninvasive_diastolic, count), (noninvasive_diastolic, mean), (noninvasive_diastolic, std), (noninvasive_mean, count), (noninvasive_mean, mean), (noninvasive_mean, std)]\n",
       "Index: []\n",
       "\n",
       "[0 rows x 78 columns]"
      ]
     },
     "metadata": {},
     "output_type": "display_data"
    }
   ],
   "source": [
    "blind_display(labs_and_vitals_df, blinded=BLINDED)"
   ]
  },
  {
   "cell_type": "code",
   "execution_count": 58,
   "metadata": {
    "scrolled": false
   },
   "outputs": [
    {
     "data": {
      "image/png": "[encoded data removed]",
      "text/plain": [
       "<Figure size 1008x504 with 2 Axes>"
      ]
     },
     "metadata": {
      "needs_background": "light"
     },
     "output_type": "display_data"
    }
   ],
   "source": [
    "numerics_per_stay = labs_and_vitals_df.loc[:,idx_slice[:,'mean']].groupby(\n",
    "    data_df.index.names\n",
    ").count().sum(axis=1)\n",
    "meas_rate_per_stay = numerics_per_stay / ((labs_and_vitals_df.shape[1]/3) * data_df['max_hours_unit'])\n",
    "\n",
    "fig, (ax_cnt, ax_rate) = plt.subplots(nrows=1, ncols=2, sharey=False, figsize = (14, 7))\n",
    "ax_cnt.hist(numerics_per_stay, bins=500, density=True)\n",
    "ax_rate.hist(meas_rate_per_stay, bins=500, density=True)\n",
    "None"
   ]
  },
  {
   "cell_type": "code",
   "execution_count": 67,
   "metadata": {},
   "outputs": [
    {
     "name": "stdout",
     "output_type": "stream",
     "text": [
      "103550 / 103874 (99.69%) of stays are valid\n"
     ]
    }
   ],
   "source": [
    "valid_stays = numerics_per_stay[numerics_per_stay > 10]\n",
    "n_valid_stays, n_stays = len(valid_stays), len(numerics_per_stay)\n",
    "print(f\"{n_valid_stays} / {n_stays} ({100*n_valid_stays/n_stays:.2f}%) of stays are valid\")\n",
    "data_df = data_df.loc[valid_stays.index]\n",
    "valid_icustays = set(data_df.index.get_level_values('icustay_id'))\n",
    "labs_and_vitals_df = labs_and_vitals_df.loc[\n",
    "    labs_and_vitals_df.index.get_level_values('icustay_id').isin(valid_icustays)\n",
    "]\n",
    "labs_df = labs_df.loc[\n",
    "    labs_df.index.get_level_values('icustay_id').isin(valid_icustays)\n",
    "]"
   ]
  },
  {
   "cell_type": "markdown",
   "metadata": {},
   "source": [
    "### Extract Treatments"
   ]
  },
  {
   "cell_type": "code",
   "execution_count": 68,
   "metadata": {},
   "outputs": [],
   "source": [
    "def merge_treatment_lists(lists):\n",
    "    out_list = [set([]) for _ in range(max(len(l) for l in lists.values))]\n",
    "    for l in lists:\n",
    "        for i, e in enumerate(l): out_list[i].update([e])\n",
    "    return out_list"
   ]
  },
  {
   "cell_type": "code",
   "execution_count": 69,
   "metadata": {},
   "outputs": [
    {
     "name": "stdout",
     "output_type": "stream",
     "text": [
      "Took 0.9342210968335469 minutes\n"
     ]
    }
   ],
   "source": [
    "start = time.time()\n",
    "\n",
    "treatments_df = querier.query(query_file=TREATMENTS_QUERY_PATH)\n",
    "treatments_df.set_index(labs_and_vitals_df.index.names, inplace=True)\n",
    "treatments_df['treatment_list'] = treatments_df.treatment_string.str.split('|')\n",
    "treatments_df = treatments_df.groupby(\n",
    "    treatments_df.index.names\n",
    ")[['treatment_list']].agg(merge_treatment_lists)\n",
    "\n",
    "treatments_df['treatment_area'] = treatments_df['treatment_list'].apply(\n",
    "    lambda x: x[0] if x else np.NaN\n",
    ")\n",
    "treatments_df['specific_treatment'] = treatments_df['treatment_list'].apply(\n",
    "    lambda x: x[-1] if x else np.NaN\n",
    ")\n",
    "\n",
    "end = time.time()\n",
    "print(f\"Took {(end - start)/60} minutes\")"
   ]
  },
  {
   "cell_type": "code",
   "execution_count": 70,
   "metadata": {},
   "outputs": [
    {
     "name": "stdout",
     "output_type": "stream",
     "text": [
      "treatments_df.shape:  (224262, 3)\n"
     ]
    },
    {
     "data": {
      "text/html": [
       "<div>\n",
       "<style scoped>\n",
       "    .dataframe tbody tr th:only-of-type {\n",
       "        vertical-align: middle;\n",
       "    }\n",
       "\n",
       "    .dataframe tbody tr th {\n",
       "        vertical-align: top;\n",
       "    }\n",
       "\n",
       "    .dataframe thead th {\n",
       "        text-align: right;\n",
       "    }\n",
       "</style>\n",
       "<table border=\"1\" class=\"dataframe\">\n",
       "  <thead>\n",
       "    <tr style=\"text-align: right;\">\n",
       "      <th></th>\n",
       "      <th></th>\n",
       "      <th></th>\n",
       "      <th></th>\n",
       "      <th>treatment_list</th>\n",
       "      <th>treatment_area</th>\n",
       "      <th>specific_treatment</th>\n",
       "    </tr>\n",
       "    <tr>\n",
       "      <th>subject_id</th>\n",
       "      <th>hadm_id</th>\n",
       "      <th>icustay_id</th>\n",
       "      <th>hours_in</th>\n",
       "      <th></th>\n",
       "      <th></th>\n",
       "      <th></th>\n",
       "    </tr>\n",
       "  </thead>\n",
       "  <tbody>\n",
       "  </tbody>\n",
       "</table>\n",
       "</div>"
      ],
      "text/plain": [
       "Empty DataFrame\n",
       "Columns: [treatment_list, treatment_area, specific_treatment]\n",
       "Index: []"
      ]
     },
     "metadata": {},
     "output_type": "display_data"
    }
   ],
   "source": [
    "blind_display(treatments_df, blinded=BLINDED)"
   ]
  },
  {
   "cell_type": "code",
   "execution_count": 71,
   "metadata": {},
   "outputs": [],
   "source": [
    "treatments_for_joining = treatments_df.copy()\n",
    "treatments_for_joining.columns = pd.MultiIndex.from_tuples([\n",
    "    ('treatment', c) for c in treatments_for_joining.columns\n",
    "])\n",
    "\n",
    "labs_vitals_treatments_df = labs_and_vitals_df.join(\n",
    "    treatments_for_joining, how='outer'\n",
    ")"
   ]
  },
  {
   "cell_type": "code",
   "execution_count": 72,
   "metadata": {},
   "outputs": [
    {
     "name": "stdout",
     "output_type": "stream",
     "text": [
      "labs_vitals_treatments_df.shape:  (7222864, 81)\n"
     ]
    },
    {
     "data": {
      "text/html": [
       "<div>\n",
       "<style scoped>\n",
       "    .dataframe tbody tr th:only-of-type {\n",
       "        vertical-align: middle;\n",
       "    }\n",
       "\n",
       "    .dataframe tbody tr th {\n",
       "        vertical-align: top;\n",
       "    }\n",
       "\n",
       "    .dataframe thead tr th {\n",
       "        text-align: left;\n",
       "    }\n",
       "\n",
       "    .dataframe thead tr:last-of-type th {\n",
       "        text-align: right;\n",
       "    }\n",
       "</style>\n",
       "<table border=\"1\" class=\"dataframe\">\n",
       "  <thead>\n",
       "    <tr>\n",
       "      <th></th>\n",
       "      <th></th>\n",
       "      <th></th>\n",
       "      <th>itemid</th>\n",
       "      <th colspan=\"3\" halign=\"left\">BUN</th>\n",
       "      <th colspan=\"3\" halign=\"left\">Hct</th>\n",
       "      <th colspan=\"3\" halign=\"left\">Hgb</th>\n",
       "      <th>MCH</th>\n",
       "      <th>...</th>\n",
       "      <th>noninvasive_systolic</th>\n",
       "      <th colspan=\"3\" halign=\"left\">noninvasive_diastolic</th>\n",
       "      <th colspan=\"3\" halign=\"left\">noninvasive_mean</th>\n",
       "      <th colspan=\"3\" halign=\"left\">treatment</th>\n",
       "    </tr>\n",
       "    <tr>\n",
       "      <th></th>\n",
       "      <th></th>\n",
       "      <th></th>\n",
       "      <th>Aggregation Function</th>\n",
       "      <th>count</th>\n",
       "      <th>mean</th>\n",
       "      <th>std</th>\n",
       "      <th>count</th>\n",
       "      <th>mean</th>\n",
       "      <th>std</th>\n",
       "      <th>count</th>\n",
       "      <th>mean</th>\n",
       "      <th>std</th>\n",
       "      <th>count</th>\n",
       "      <th>...</th>\n",
       "      <th>std</th>\n",
       "      <th>count</th>\n",
       "      <th>mean</th>\n",
       "      <th>std</th>\n",
       "      <th>count</th>\n",
       "      <th>mean</th>\n",
       "      <th>std</th>\n",
       "      <th>treatment_list</th>\n",
       "      <th>treatment_area</th>\n",
       "      <th>specific_treatment</th>\n",
       "    </tr>\n",
       "    <tr>\n",
       "      <th>subject_id</th>\n",
       "      <th>hadm_id</th>\n",
       "      <th>icustay_id</th>\n",
       "      <th>hours_in</th>\n",
       "      <th></th>\n",
       "      <th></th>\n",
       "      <th></th>\n",
       "      <th></th>\n",
       "      <th></th>\n",
       "      <th></th>\n",
       "      <th></th>\n",
       "      <th></th>\n",
       "      <th></th>\n",
       "      <th></th>\n",
       "      <th></th>\n",
       "      <th></th>\n",
       "      <th></th>\n",
       "      <th></th>\n",
       "      <th></th>\n",
       "      <th></th>\n",
       "      <th></th>\n",
       "      <th></th>\n",
       "      <th></th>\n",
       "      <th></th>\n",
       "      <th></th>\n",
       "    </tr>\n",
       "  </thead>\n",
       "  <tbody>\n",
       "  </tbody>\n",
       "</table>\n",
       "<p>0 rows × 81 columns</p>\n",
       "</div>"
      ],
      "text/plain": [
       "Empty DataFrame\n",
       "Columns: [(BUN, count), (BUN, mean), (BUN, std), (Hct, count), (Hct, mean), (Hct, std), (Hgb, count), (Hgb, mean), (Hgb, std), (MCH, count), (MCH, mean), (MCH, std), (MCHC, count), (MCHC, mean), (MCHC, std), (MCV, count), (MCV, mean), (MCV, std), (RDW, count), (RDW, mean), (RDW, std), (WBC x 1000, count), (WBC x 1000, mean), (WBC x 1000, std), (bedside glucose, count), (bedside glucose, mean), (bedside glucose, std), (bicarbonate, count), (bicarbonate, mean), (bicarbonate, std), (calcium, count), (calcium, mean), (calcium, std), (chloride, count), (chloride, mean), (chloride, std), (creatinine, count), (creatinine, mean), (creatinine, std), (glucose, count), (glucose, mean), (glucose, std), (platelets x 1000, count), (platelets x 1000, mean), (platelets x 1000, std), (potassium, count), (potassium, mean), (potassium, std), (sodium, count), (sodium, mean), (sodium, std), (sao2, count), (sao2, mean), (sao2, std), (heart_rate, count), (heart_rate, mean), (heart_rate, std), (respiratory_rate, count), (respiratory_rate, mean), (respiratory_rate, std), (st1, count), (st1, mean), (st1, std), (st2, count), (st2, mean), (st2, std), (st3, count), (st3, mean), (st3, std), (noninvasive_systolic, count), (noninvasive_systolic, mean), (noninvasive_systolic, std), (noninvasive_diastolic, count), (noninvasive_diastolic, mean), (noninvasive_diastolic, std), (noninvasive_mean, count), (noninvasive_mean, mean), (noninvasive_mean, std), (treatment, treatment_list), (treatment, treatment_area), (treatment, specific_treatment)]\n",
       "Index: []\n",
       "\n",
       "[0 rows x 81 columns]"
      ]
     },
     "metadata": {},
     "output_type": "display_data"
    }
   ],
   "source": [
    "blind_display(labs_vitals_treatments_df, blinded=BLINDED)"
   ]
  },
  {
   "cell_type": "code",
   "execution_count": 73,
   "metadata": {},
   "outputs": [],
   "source": [
    "assert not labs_vitals_treatments_df.isnull().all(axis=0).any()"
   ]
  },
  {
   "cell_type": "markdown",
   "metadata": {},
   "source": [
    "## Profiling Extracted Cohort"
   ]
  },
  {
   "cell_type": "code",
   "execution_count": 74,
   "metadata": {},
   "outputs": [
    {
     "data": {
      "text/plain": [
       "itemid                 Aggregation Function\n",
       "treatment              treatment_area          0.031049\n",
       "MCHC                   mean                    0.033764\n",
       "MCH                    mean                    0.040183\n",
       "RDW                    mean                    0.040810\n",
       "bicarbonate            mean                    0.041290\n",
       "chloride               mean                    0.041870\n",
       "MCV                    mean                    0.042798\n",
       "WBC x 1000             mean                    0.044369\n",
       "platelets x 1000       mean                    0.044577\n",
       "sodium                 mean                    0.045543\n",
       "Hgb                    mean                    0.048402\n",
       "calcium                mean                    0.049187\n",
       "potassium              mean                    0.050501\n",
       "BUN                    mean                    0.050769\n",
       "Hct                    mean                    0.050833\n",
       "creatinine             mean                    0.050993\n",
       "glucose                mean                    0.052507\n",
       "st3                    mean                    0.074602\n",
       "st1                    mean                    0.076667\n",
       "st2                    mean                    0.080879\n",
       "bedside glucose        mean                    0.132795\n",
       "respiratory_rate       mean                    0.175847\n",
       "sao2                   mean                    0.182209\n",
       "heart_rate             mean                    0.196088\n",
       "noninvasive_systolic   mean                    0.794571\n",
       "noninvasive_diastolic  mean                    0.794592\n",
       "noninvasive_mean       mean                    0.795863\n",
       "dtype: float64"
      ]
     },
     "metadata": {},
     "output_type": "display_data"
    },
    {
     "name": "stdout",
     "output_type": "stream",
     "text": [
      "Min Measurement Rate: 0.03104890248521916 Obtained on: ('treatment', 'treatment_area')\n"
     ]
    }
   ],
   "source": [
    "meas_cols = [\n",
    "    c for c in labs_vitals_treatments_df.columns if c[1] in ('mean', 'treatment_area')\n",
    "]\n",
    "meas_rates = (\n",
    "    labs_vitals_treatments_df[meas_cols].count(axis=0) / len(labs_vitals_treatments_df)\n",
    ")\n",
    "display(meas_rates.sort_values())\n",
    "print(\n",
    "    f\"Min Measurement Rate: {meas_rates.min()} \"\n",
    "    f\"Obtained on: {meas_rates.idxmin()}\"\n",
    ")"
   ]
  },
  {
   "cell_type": "code",
   "execution_count": 75,
   "metadata": {
    "scrolled": false
   },
   "outputs": [
    {
     "data": {
      "image/png": "[encoded data removed]",
      "text/plain": [
       "<Figure size 720x720 with 9 Axes>"
      ]
     },
     "metadata": {
      "needs_background": "light"
     },
     "output_type": "display_data"
    },
    {
     "data": {
      "image/png": "[encoded data removed]",
      "text/plain": [
       "<Figure size 720x720 with 9 Axes>"
      ]
     },
     "metadata": {
      "needs_background": "light"
     },
     "output_type": "display_data"
    },
    {
     "data": {
      "image/png": "[encoded data removed]",
      "text/plain": [
       "<Figure size 720x720 with 9 Axes>"
      ]
     },
     "metadata": {
      "needs_background": "light"
     },
     "output_type": "display_data"
    }
   ],
   "source": [
    "for i, col in enumerate(meas_rates.sort_values(ascending=True).index):\n",
    "    meas_rate = meas_rates.loc[col]\n",
    "        \n",
    "    if i % 9 == 0:\n",
    "        fig, axes = plt.subplots(3, 3, figsize=(10, 10))\n",
    "        axes = list(itertools.chain.from_iterable(axes))\n",
    "        fig.tight_layout(pad=5)\n",
    "        \n",
    "    if col[0] == 'treatment': continue\n",
    "    ax = axes[i % 9]           \n",
    "    \n",
    "    vals = labs_vitals_treatments_df[col]\n",
    "    # Simple outlier removal just for display purposes\n",
    "    vals = vals[vals < vals.quantile(0.99999)]\n",
    "    N = len(vals)\n",
    "    \n",
    "    if col[0] in counter_uoms_by_itemid.index:\n",
    "        uoms = counter_uoms_by_itemid.loc[\n",
    "            col[0], 'valueuom_unified'\n",
    "        ].most_common(1)[0][0]\n",
    "        uoms = set(u for u in uoms if u)\n",
    "        uoms = ', '.join(uoms)\n",
    "        if len(uoms) > 20: uoms = uoms[:17] + '...'\n",
    "    else: uoms = ''\n",
    "    \n",
    "    ax.set_title(f\"{col[0]}: (obs {meas_rate*100:.1f}%)\")\n",
    "    ax.hist(vals.values, bins=min(500, int(0.03 * N)), density=True)\n",
    "    ax.set_xlabel(uoms)\n",
    "    ax.set_ylabel('Density')\n",
    "    \n",
    "#     if i % 9 == 8: display(fig)"
   ]
  },
  {
   "cell_type": "markdown",
   "metadata": {},
   "source": [
    "## Saving\n",
    "\n",
    "For now, I'm going to save the `labs_vitals_treatments_df` in one hdf file on one key, along with the `data_df` in the same file on a different key. This is a bit different than `MIMIC_Extract`, which stores `labs_vitals`, `treatments`, and `data_df` (or their analog) all under separate keys."
   ]
  },
  {
   "cell_type": "code",
   "execution_count": 76,
   "metadata": {},
   "outputs": [
    {
     "name": "stderr",
     "output_type": "stream",
     "text": [
      "/crimea/conda_envs/mimic_extract/lib/python3.6/site-packages/pandas/core/generic.py:2377: PerformanceWarning: \n",
      "your performance may suffer as PyTables will pickle object types that it cannot\n",
      "map directly to c-types [inferred_type->mixed,key->block2_values] [items->['region', 'ethnicity', 'discharge_location', 'unit_type']]\n",
      "\n",
      "  return pytables.to_hdf(path_or_buf, key, self, **kwargs)\n"
     ]
    }
   ],
   "source": [
    "# data_df.set_index([c for c in labs_vitals_treatments_df.index.names if c != 'hours_in'], inplace=True)\n",
    "data_df.to_hdf(args['out_path'], key='data_df')"
   ]
  },
  {
   "cell_type": "code",
   "execution_count": 77,
   "metadata": {},
   "outputs": [
    {
     "name": "stderr",
     "output_type": "stream",
     "text": [
      "/crimea/conda_envs/mimic_extract/lib/python3.6/site-packages/tables/attributeset.py:475: NaturalNameWarning: object name is not a valid Python identifier: 'axis0_nameAggregation Function'; it does not match the pattern ``^[a-zA-Z_][a-zA-Z0-9_]*$``; you will not be able to use natural naming to access this object; using ``getattr()`` will still work, though\n",
      "  check_attribute_name(name)\n",
      "/crimea/conda_envs/mimic_extract/lib/python3.6/site-packages/tables/attributeset.py:475: NaturalNameWarning: object name is not a valid Python identifier: 'block0_items_nameAggregation Function'; it does not match the pattern ``^[a-zA-Z_][a-zA-Z0-9_]*$``; you will not be able to use natural naming to access this object; using ``getattr()`` will still work, though\n",
      "  check_attribute_name(name)\n",
      "/crimea/conda_envs/mimic_extract/lib/python3.6/site-packages/pandas/core/generic.py:2377: PerformanceWarning: \n",
      "your performance may suffer as PyTables will pickle object types that it cannot\n",
      "map directly to c-types [inferred_type->mixed,key->block1_values] [items->[('treatment', 'treatment_list'), ('treatment', 'treatment_area'), ('treatment', 'specific_treatment')]]\n",
      "\n",
      "  return pytables.to_hdf(path_or_buf, key, self, **kwargs)\n",
      "/crimea/conda_envs/mimic_extract/lib/python3.6/site-packages/tables/attributeset.py:475: NaturalNameWarning: object name is not a valid Python identifier: 'block1_items_nameAggregation Function'; it does not match the pattern ``^[a-zA-Z_][a-zA-Z0-9_]*$``; you will not be able to use natural naming to access this object; using ``getattr()`` will still work, though\n",
      "  check_attribute_name(name)\n"
     ]
    }
   ],
   "source": [
    "labs_vitals_treatments_df.to_hdf(args['out_path'], key='labs_vitals_treatments')"
   ]
  }
 ],
 "metadata": {
  "kernelspec": {
   "display_name": "Python 3",
   "language": "python",
   "name": "python3"
  },
  "language_info": {
   "codemirror_mode": {
    "name": "ipython",
    "version": 3
   },
   "file_extension": ".py",
   "mimetype": "text/x-python",
   "name": "python",
   "nbconvert_exporter": "python",
   "pygments_lexer": "ipython3",
   "version": "3.6.8"
  }
 },
 "nbformat": 4,
 "nbformat_minor": 2
}
