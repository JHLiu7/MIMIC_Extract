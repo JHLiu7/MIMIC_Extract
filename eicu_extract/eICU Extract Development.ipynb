{
 "cells": [
  {
   "cell_type": "code",
   "execution_count": 1,
   "metadata": {},
   "outputs": [],
   "source": [
    "%load_ext autoreload\n",
    "\n",
    "import os, sys\n",
    "sys.path.insert(0, '../')"
   ]
  },
  {
   "cell_type": "code",
   "execution_count": 2,
   "metadata": {},
   "outputs": [],
   "source": [
    "%autoreload\n",
    "from extract_utils.querier import *\n",
    "from extract_utils.display_utils import *\n",
    "\n",
    "import itertools, os, psycopg2, re, sys, time, numpy as np, pandas as pd\n",
    "from sklearn import metrics\n",
    "from datetime import datetime\n",
    "from datetime import timedelta\n",
    "from collections import Counter, defaultdict\n",
    "\n",
    "from os.path import isfile, isdir, splitext\n",
    "import argparse\n",
    "import pickle as cPickle\n",
    "import numpy.random as npr\n",
    "\n",
    "SQL_DIR = os.path.join('./SQL_Queries')\n",
    "STATICS_QUERY_PATH = os.path.join(SQL_DIR, 'statics.sql')\n",
    "LABS_QUERY_PATH = os.path.join(SQL_DIR, 'labs.sql')\n",
    "VITALS_QUERY_PATH = os.path.join(SQL_DIR, 'vitals.sql')\n",
    "TREATMENTS_QUERY_PATH = os.path.join(SQL_DIR, 'treatments.sql')\n",
    "CODES_QUERY_PATH = os.path.join(SQL_DIR, 'codes.sql')"
   ]
  },
  {
   "cell_type": "code",
   "execution_count": 3,
   "metadata": {},
   "outputs": [],
   "source": [
    "BLINDED = True"
   ]
  },
  {
   "cell_type": "markdown",
   "metadata": {},
   "source": [
    "# Questions on eICU\n",
    "  1. In `lab`, `labresultoffset` vs. `labresultrevisedoffset`?"
   ]
  },
  {
   "cell_type": "markdown",
   "metadata": {},
   "source": [
    "### Set up Args"
   ]
  },
  {
   "cell_type": "code",
   "execution_count": 4,
   "metadata": {},
   "outputs": [],
   "source": [
    "idx = pd.IndexSlice"
   ]
  },
  {
   "cell_type": "code",
   "execution_count": 5,
   "metadata": {},
   "outputs": [],
   "source": [
    "args = {\n",
    "    # Querier Params\n",
    "    'psql_host': '/var/run/postgresql/',\n",
    "    \n",
    "    # Pop Restrictions\n",
    "    'pop_size': 3000000,\n",
    "    'min_age': 15,\n",
    "    'min_duration': 24,\n",
    "    'max_duration': 240,\n",
    "    'min_labs_thresh': 5,\n",
    "}"
   ]
  },
  {
   "cell_type": "markdown",
   "metadata": {},
   "source": [
    "### Set up Querier"
   ]
  },
  {
   "cell_type": "code",
   "execution_count": 6,
   "metadata": {},
   "outputs": [],
   "source": [
    "dbname = 'eicu'\n",
    "schema_name = 'public'\n",
    "query_args = {'dbname': dbname}\n",
    "if args['psql_host'] is not None: query_args['host'] = args['psql_host']\n",
    "# if args['psql_user'] is not None: query_args['user'] = args['psql_user']\n",
    "# if args['psql_password'] is not None: query_args['password'] = args['psql_password']\n",
    "\n",
    "querier = Querier(query_args=query_args, schema_name=schema_name)"
   ]
  },
  {
   "cell_type": "markdown",
   "metadata": {},
   "source": [
    "### Helper Functions"
   ]
  },
  {
   "cell_type": "code",
   "execution_count": 7,
   "metadata": {},
   "outputs": [],
   "source": [
    "def range_unnest(df, col, out_col_name=None, reset_index=False):\n",
    "    assert len(df.index.names) == 1, \"Does not support multi-index.\"\n",
    "    if out_col_name is None: out_col_name = col\n",
    "\n",
    "    col_flat = pd.DataFrame(\n",
    "        [[i, x] for i, y in df[col].iteritems() for x in range(y+1)],\n",
    "        columns=[df.index.names[0], out_col_name]\n",
    "    )\n",
    "\n",
    "    if not reset_index: col_flat = col_flat.set_index(df.index.names[0])\n",
    "    return col_flat"
   ]
  },
  {
   "cell_type": "markdown",
   "metadata": {},
   "source": [
    "### Extract Cohort"
   ]
  },
  {
   "cell_type": "code",
   "execution_count": 8,
   "metadata": {
    "scrolled": false
   },
   "outputs": [
    {
     "name": "stdout",
     "output_type": "stream",
     "text": [
      "Building data from scratch.\n",
      "Took 0.024374846617380777 minutes\n"
     ]
    }
   ],
   "source": [
    "#############\n",
    "# Population extraction\n",
    "\n",
    "start = time.time()\n",
    "\n",
    "print(\"Building data from scratch.\")\n",
    "pop_size_string = f\"LIMIT {args['pop_size']}\" if args['pop_size'] > 0 else \"\"\n",
    "\n",
    "min_age_string = str(args['min_age'])\n",
    "min_dur_string = str(args['min_duration'])\n",
    "max_dur_string = str(args['max_duration'])\n",
    "min_day_string = str(float(args['min_duration'])/24)\n",
    "\n",
    "template_vars = dict(\n",
    "    limit=pop_size_string, min_age=min_age_string, min_dur=min_dur_string, max_dur=max_dur_string,\n",
    "    min_day=min_day_string\n",
    ")\n",
    "\n",
    "data_df = querier.query(\n",
    "    query_file=STATICS_QUERY_PATH, extra_template_vars=template_vars\n",
    ")\n",
    "\n",
    "end = time.time()\n",
    "print(f\"Took {(end - start)/60} minutes\")"
   ]
  },
  {
   "cell_type": "code",
   "execution_count": 9,
   "metadata": {},
   "outputs": [
    {
     "name": "stdout",
     "output_type": "stream",
     "text": [
      "data_df.shape:  (103874, 21)\n"
     ]
    },
    {
     "data": {
      "text/html": [
       "<div>\n",
       "<style scoped>\n",
       "    .dataframe tbody tr th:only-of-type {\n",
       "        vertical-align: middle;\n",
       "    }\n",
       "\n",
       "    .dataframe tbody tr th {\n",
       "        vertical-align: top;\n",
       "    }\n",
       "\n",
       "    .dataframe thead th {\n",
       "        text-align: right;\n",
       "    }\n",
       "</style>\n",
       "<table border=\"1\" class=\"dataframe\">\n",
       "  <thead>\n",
       "    <tr style=\"text-align: right;\">\n",
       "      <th></th>\n",
       "      <th>subject_id</th>\n",
       "      <th>hadm_id</th>\n",
       "      <th>icustay_id</th>\n",
       "      <th>hospital_id</th>\n",
       "      <th>region</th>\n",
       "      <th>icustay_seq</th>\n",
       "      <th>gender</th>\n",
       "      <th>age</th>\n",
       "      <th>ethnicity</th>\n",
       "      <th>los_icu</th>\n",
       "      <th>...</th>\n",
       "      <th>hospital_discharge_offset_min</th>\n",
       "      <th>unit_admit_offset_min</th>\n",
       "      <th>unit_discharge_offset_min</th>\n",
       "      <th>max_hours_unit</th>\n",
       "      <th>max_hours_hospital</th>\n",
       "      <th>discharge_location</th>\n",
       "      <th>mort_hosp</th>\n",
       "      <th>mort_icu</th>\n",
       "      <th>hospital_discharge_year</th>\n",
       "      <th>unit_type</th>\n",
       "    </tr>\n",
       "  </thead>\n",
       "  <tbody>\n",
       "  </tbody>\n",
       "</table>\n",
       "<p>0 rows × 21 columns</p>\n",
       "</div>"
      ],
      "text/plain": [
       "Empty DataFrame\n",
       "Columns: [subject_id, hadm_id, icustay_id, hospital_id, region, icustay_seq, gender, age, ethnicity, los_icu, hospital_admit_offset_min, hospital_discharge_offset_min, unit_admit_offset_min, unit_discharge_offset_min, max_hours_unit, max_hours_hospital, discharge_location, mort_hosp, mort_icu, hospital_discharge_year, unit_type]\n",
       "Index: []\n",
       "\n",
       "[0 rows x 21 columns]"
      ]
     },
     "metadata": {},
     "output_type": "display_data"
    }
   ],
   "source": [
    "blind_display(data_df, blinded=BLINDED)"
   ]
  },
  {
   "cell_type": "markdown",
   "metadata": {},
   "source": [
    "### Add exclusion criteria for remaining queries"
   ]
  },
  {
   "cell_type": "code",
   "execution_count": 10,
   "metadata": {},
   "outputs": [],
   "source": [
    "querier.add_exclusion_criteria_from_df(data_df, columns=['hadm_id', 'subject_id', 'icustay_id'])"
   ]
  },
  {
   "cell_type": "markdown",
   "metadata": {},
   "source": [
    "### Extract Labs"
   ]
  },
  {
   "cell_type": "code",
   "execution_count": 11,
   "metadata": {},
   "outputs": [
    {
     "name": "stderr",
     "output_type": "stream",
     "text": [
      "/crimea/conda_envs/mimic_extract/lib/python3.6/site-packages/ipykernel_launcher.py:4: FutureWarning: Interpreting tuple 'by' as a list of keys, rather than a single key. Use 'by=[...]' instead of 'by=(...)'. In the future, a tuple will always mean a single key.\n",
      "  after removing the cwd from sys.path.\n"
     ]
    },
    {
     "name": "stdout",
     "output_type": "stream",
     "text": [
      "labs_df.shape:  (17421186, 8)\n"
     ]
    },
    {
     "data": {
      "text/html": [
       "<div>\n",
       "<style scoped>\n",
       "    .dataframe tbody tr th:only-of-type {\n",
       "        vertical-align: middle;\n",
       "    }\n",
       "\n",
       "    .dataframe tbody tr th {\n",
       "        vertical-align: top;\n",
       "    }\n",
       "\n",
       "    .dataframe thead th {\n",
       "        text-align: right;\n",
       "    }\n",
       "</style>\n",
       "<table border=\"1\" class=\"dataframe\">\n",
       "  <thead>\n",
       "    <tr style=\"text-align: right;\">\n",
       "      <th></th>\n",
       "      <th>subject_id</th>\n",
       "      <th>hadm_id</th>\n",
       "      <th>icustay_id</th>\n",
       "      <th>hours_in</th>\n",
       "      <th>itemid</th>\n",
       "      <th>value</th>\n",
       "      <th>valueuom_system</th>\n",
       "      <th>valueuom_interface</th>\n",
       "    </tr>\n",
       "  </thead>\n",
       "  <tbody>\n",
       "  </tbody>\n",
       "</table>\n",
       "</div>"
      ],
      "text/plain": [
       "Empty DataFrame\n",
       "Columns: [subject_id, hadm_id, icustay_id, hours_in, itemid, value, valueuom_system, valueuom_interface]\n",
       "Index: []"
      ]
     },
     "metadata": {},
     "output_type": "display_data"
    },
    {
     "name": "stdout",
     "output_type": "stream",
     "text": [
      "Took 3.933498477935791 minutes\n"
     ]
    }
   ],
   "source": [
    "start = time.time()\n",
    "labs_df = querier.query(query_file=LABS_QUERY_PATH)\n",
    "\n",
    "n_uoms_by_itemid = labs_df.groupby(by=('itemid',))[\n",
    "    'valueuom_system', 'valueuom_interface'\n",
    "].nunique().max(axis=1)\n",
    "n_uoms_by_itemid_dict = n_uoms_by_itemid.to_dict()\n",
    "set_utoms_by_itemid = labs_df.groupby(by='itemid')[\n",
    "    ['valueuom_system', 'valueuom_interface']\n",
    "].agg(set)\n",
    "# assert n_uoms_by_itemid.max() == 1, {\n",
    "#     k: v for k, v in n_uoms_by_itemid_dict.items() if v > 1\n",
    "# }\n",
    "\n",
    "labs_df.value = pd.to_numeric(labs_df.value, 'coerce')\n",
    "\n",
    "blind_display(labs_df, blinded=BLINDED)\n",
    "        \n",
    "labs_df.drop(inplace=True, columns=['valueuom_system', 'valueuom_interface'])\n",
    "labs_df = labs_df.groupby(\n",
    "    ['subject_id', 'hadm_id', 'icustay_id', 'itemid', 'hours_in']\n",
    ").agg(['mean', 'std', 'count'])\n",
    "\n",
    "labs_df.columns = labs_df.columns.droplevel(0)\n",
    "labs_df.columns.names = ['Aggregation Function']\n",
    "\n",
    "missing_hours_fill = range_unnest(\n",
    "    data_df.set_index('icustay_id'), 'max_hours_unit', out_col_name='hours_in',\n",
    "    reset_index=True\n",
    ")\n",
    "missing_hours_fill['tmp'] = np.NaN\n",
    "\n",
    "fill_df = data_df[['icustay_id', 'hadm_id', 'subject_id']].join(\n",
    "    missing_hours_fill.set_index('icustay_id'), on='icustay_id'\n",
    ")\n",
    "N = fill_df.shape[0]\n",
    "\n",
    "count_per_itemid = labs_df.groupby('itemid')['mean'].count()\n",
    "measurement_freq_per_itemid = count_per_itemid / N\n",
    "\n",
    "valid_itemids = measurement_freq_per_itemid[\n",
    "    measurement_freq_per_itemid > (args['min_labs_thresh']/100)\n",
    "]\n",
    "\n",
    "labs_df = labs_df[labs_df.index.get_level_values('itemid').isin(valid_itemids.index)]\n",
    "\n",
    "labs_df = labs_df.unstack(level=['itemid'])\n",
    "\n",
    "fill_df.set_index(labs_df.index.names, inplace=True)\n",
    "\n",
    "labs_df.columns = labs_df.columns.reorder_levels(\n",
    "    order=['itemid', 'Aggregation Function']\n",
    ")\n",
    "labs_df = labs_df.reindex(fill_df.index)\n",
    "\n",
    "labs_df = labs_df.sort_index(axis=0).sort_index(axis=1)\n",
    "\n",
    "end = time.time()\n",
    "print(f\"Took {(end - start)/60} minutes\")"
   ]
  },
  {
   "cell_type": "code",
   "execution_count": 12,
   "metadata": {},
   "outputs": [
    {
     "name": "stdout",
     "output_type": "stream",
     "text": [
      "labs_df.shape:  (7221824, 57)\n"
     ]
    },
    {
     "data": {
      "text/html": [
       "<div>\n",
       "<style scoped>\n",
       "    .dataframe tbody tr th:only-of-type {\n",
       "        vertical-align: middle;\n",
       "    }\n",
       "\n",
       "    .dataframe tbody tr th {\n",
       "        vertical-align: top;\n",
       "    }\n",
       "\n",
       "    .dataframe thead tr th {\n",
       "        text-align: left;\n",
       "    }\n",
       "\n",
       "    .dataframe thead tr:last-of-type th {\n",
       "        text-align: right;\n",
       "    }\n",
       "</style>\n",
       "<table border=\"1\" class=\"dataframe\">\n",
       "  <thead>\n",
       "    <tr>\n",
       "      <th></th>\n",
       "      <th></th>\n",
       "      <th></th>\n",
       "      <th>itemid</th>\n",
       "      <th colspan=\"3\" halign=\"left\">BUN</th>\n",
       "      <th colspan=\"3\" halign=\"left\">Hct</th>\n",
       "      <th colspan=\"3\" halign=\"left\">Hgb</th>\n",
       "      <th>MCH</th>\n",
       "      <th>...</th>\n",
       "      <th>glucose</th>\n",
       "      <th colspan=\"3\" halign=\"left\">platelets x 1000</th>\n",
       "      <th colspan=\"3\" halign=\"left\">potassium</th>\n",
       "      <th colspan=\"3\" halign=\"left\">sodium</th>\n",
       "    </tr>\n",
       "    <tr>\n",
       "      <th></th>\n",
       "      <th></th>\n",
       "      <th></th>\n",
       "      <th>Aggregation Function</th>\n",
       "      <th>count</th>\n",
       "      <th>mean</th>\n",
       "      <th>std</th>\n",
       "      <th>count</th>\n",
       "      <th>mean</th>\n",
       "      <th>std</th>\n",
       "      <th>count</th>\n",
       "      <th>mean</th>\n",
       "      <th>std</th>\n",
       "      <th>count</th>\n",
       "      <th>...</th>\n",
       "      <th>std</th>\n",
       "      <th>count</th>\n",
       "      <th>mean</th>\n",
       "      <th>std</th>\n",
       "      <th>count</th>\n",
       "      <th>mean</th>\n",
       "      <th>std</th>\n",
       "      <th>count</th>\n",
       "      <th>mean</th>\n",
       "      <th>std</th>\n",
       "    </tr>\n",
       "    <tr>\n",
       "      <th>subject_id</th>\n",
       "      <th>hadm_id</th>\n",
       "      <th>icustay_id</th>\n",
       "      <th>hours_in</th>\n",
       "      <th></th>\n",
       "      <th></th>\n",
       "      <th></th>\n",
       "      <th></th>\n",
       "      <th></th>\n",
       "      <th></th>\n",
       "      <th></th>\n",
       "      <th></th>\n",
       "      <th></th>\n",
       "      <th></th>\n",
       "      <th></th>\n",
       "      <th></th>\n",
       "      <th></th>\n",
       "      <th></th>\n",
       "      <th></th>\n",
       "      <th></th>\n",
       "      <th></th>\n",
       "      <th></th>\n",
       "      <th></th>\n",
       "      <th></th>\n",
       "      <th></th>\n",
       "    </tr>\n",
       "  </thead>\n",
       "  <tbody>\n",
       "  </tbody>\n",
       "</table>\n",
       "<p>0 rows × 57 columns</p>\n",
       "</div>"
      ],
      "text/plain": [
       "Empty DataFrame\n",
       "Columns: [(BUN, count), (BUN, mean), (BUN, std), (Hct, count), (Hct, mean), (Hct, std), (Hgb, count), (Hgb, mean), (Hgb, std), (MCH, count), (MCH, mean), (MCH, std), (MCHC, count), (MCHC, mean), (MCHC, std), (MCV, count), (MCV, mean), (MCV, std), (RBC, count), (RBC, mean), (RBC, std), (RDW, count), (RDW, mean), (RDW, std), (WBC x 1000, count), (WBC x 1000, mean), (WBC x 1000, std), (anion gap, count), (anion gap, mean), (anion gap, std), (bedside glucose, count), (bedside glucose, mean), (bedside glucose, std), (bicarbonate, count), (bicarbonate, mean), (bicarbonate, std), (calcium, count), (calcium, mean), (calcium, std), (chloride, count), (chloride, mean), (chloride, std), (creatinine, count), (creatinine, mean), (creatinine, std), (glucose, count), (glucose, mean), (glucose, std), (platelets x 1000, count), (platelets x 1000, mean), (platelets x 1000, std), (potassium, count), (potassium, mean), (potassium, std), (sodium, count), (sodium, mean), (sodium, std)]\n",
       "Index: []\n",
       "\n",
       "[0 rows x 57 columns]"
      ]
     },
     "metadata": {},
     "output_type": "display_data"
    }
   ],
   "source": [
    "blind_display(labs_df, blinded=BLINDED)"
   ]
  },
  {
   "cell_type": "markdown",
   "metadata": {},
   "source": [
    "### Extract Vitals"
   ]
  },
  {
   "cell_type": "code",
   "execution_count": 13,
   "metadata": {
    "scrolled": false
   },
   "outputs": [
    {
     "name": "stdout",
     "output_type": "stream",
     "text": [
      "vitals_df.shape:  (14014167, 30)\n"
     ]
    },
    {
     "data": {
      "text/html": [
       "<div>\n",
       "<style scoped>\n",
       "    .dataframe tbody tr th:only-of-type {\n",
       "        vertical-align: middle;\n",
       "    }\n",
       "\n",
       "    .dataframe tbody tr th {\n",
       "        vertical-align: top;\n",
       "    }\n",
       "\n",
       "    .dataframe thead th {\n",
       "        text-align: right;\n",
       "    }\n",
       "</style>\n",
       "<table border=\"1\" class=\"dataframe\">\n",
       "  <thead>\n",
       "    <tr style=\"text-align: right;\">\n",
       "      <th></th>\n",
       "      <th>subject_id</th>\n",
       "      <th>hadm_id</th>\n",
       "      <th>icustay_id</th>\n",
       "      <th>hours_in</th>\n",
       "      <th>temperature</th>\n",
       "      <th>sao2</th>\n",
       "      <th>heart_rate</th>\n",
       "      <th>respiratory_rate</th>\n",
       "      <th>cvp</th>\n",
       "      <th>etco2</th>\n",
       "      <th>...</th>\n",
       "      <th>noninvasive_systolic</th>\n",
       "      <th>noninvasive_diastolic</th>\n",
       "      <th>noninvasive_mean</th>\n",
       "      <th>paop</th>\n",
       "      <th>cardiac_output</th>\n",
       "      <th>cardiac_input</th>\n",
       "      <th>svr</th>\n",
       "      <th>svri</th>\n",
       "      <th>pvr</th>\n",
       "      <th>pvri</th>\n",
       "    </tr>\n",
       "  </thead>\n",
       "  <tbody>\n",
       "  </tbody>\n",
       "</table>\n",
       "<p>0 rows × 30 columns</p>\n",
       "</div>"
      ],
      "text/plain": [
       "Empty DataFrame\n",
       "Columns: [subject_id, hadm_id, icustay_id, hours_in, temperature, sao2, heart_rate, respiratory_rate, cvp, etco2, systemic_systolic, systemic_diastolic, systemic_mean, pa_systolic, pa_diastolic, pa_mean, st1, st2, st3, icp, noninvasive_systolic, noninvasive_diastolic, noninvasive_mean, paop, cardiac_output, cardiac_input, svr, svri, pvr, pvri]\n",
       "Index: []\n",
       "\n",
       "[0 rows x 30 columns]"
      ]
     },
     "metadata": {},
     "output_type": "display_data"
    },
    {
     "name": "stdout",
     "output_type": "stream",
     "text": [
      "Took 7.261229566733042 minutes\n"
     ]
    }
   ],
   "source": [
    "start = time.time()\n",
    "\n",
    "vitals_df = querier.query(query_file=VITALS_QUERY_PATH)\n",
    "vitals_df_raw = vitals_df.copy()\n",
    "blind_display(vitals_df, blinded=BLINDED)\n",
    "\n",
    "vitals_df.set_index(labs_df.index.names, inplace=True)\n",
    "for col in vitals_df:\n",
    "    vitals_df[col] = pd.to_numeric(vitals_df[col], 'coerce')\n",
    "vitals_df = vitals_df.groupby(vitals_df.index.names).agg(['count', 'mean', 'std'])\n",
    "    \n",
    "count_per_vital = vitals_df.loc[:, idx[:, 'mean']].count(axis=0)\n",
    "measurement_freq_per_vital = count_per_vital / N\n",
    "\n",
    "invalid_vitals = [x[0] for x in measurement_freq_per_vital[\n",
    "    measurement_freq_per_vital <= (args['min_labs_thresh']/100)\n",
    "].index]\n",
    "vitals_df.drop(columns=[\n",
    "    (k, a) for k, a in itertools.product(invalid_vitals, ('count', 'mean', 'std'))\n",
    "], inplace=True)\n",
    "vitals_df.loc[:, idx[:, 'count']] = vitals_df.loc[:, idx[:, 'count']].fillna(0)\n",
    "    \n",
    "vitals_df.columns.names = labs_df.columns.names\n",
    "\n",
    "labs_and_vitals_df = labs_df.join(vitals_df, how='outer')\n",
    "\n",
    "end = time.time()\n",
    "print(f\"Took {(end - start) / 60} minutes\")"
   ]
  },
  {
   "cell_type": "code",
   "execution_count": 14,
   "metadata": {},
   "outputs": [
    {
     "name": "stdout",
     "output_type": "stream",
     "text": [
      "labs_and_vitals_df.shape:  (7237510, 84)\n"
     ]
    },
    {
     "data": {
      "text/html": [
       "<div>\n",
       "<style scoped>\n",
       "    .dataframe tbody tr th:only-of-type {\n",
       "        vertical-align: middle;\n",
       "    }\n",
       "\n",
       "    .dataframe tbody tr th {\n",
       "        vertical-align: top;\n",
       "    }\n",
       "\n",
       "    .dataframe thead tr th {\n",
       "        text-align: left;\n",
       "    }\n",
       "\n",
       "    .dataframe thead tr:last-of-type th {\n",
       "        text-align: right;\n",
       "    }\n",
       "</style>\n",
       "<table border=\"1\" class=\"dataframe\">\n",
       "  <thead>\n",
       "    <tr>\n",
       "      <th></th>\n",
       "      <th></th>\n",
       "      <th></th>\n",
       "      <th>itemid</th>\n",
       "      <th colspan=\"3\" halign=\"left\">BUN</th>\n",
       "      <th colspan=\"3\" halign=\"left\">Hct</th>\n",
       "      <th colspan=\"3\" halign=\"left\">Hgb</th>\n",
       "      <th>MCH</th>\n",
       "      <th>...</th>\n",
       "      <th>st3</th>\n",
       "      <th colspan=\"3\" halign=\"left\">noninvasive_systolic</th>\n",
       "      <th colspan=\"3\" halign=\"left\">noninvasive_diastolic</th>\n",
       "      <th colspan=\"3\" halign=\"left\">noninvasive_mean</th>\n",
       "    </tr>\n",
       "    <tr>\n",
       "      <th></th>\n",
       "      <th></th>\n",
       "      <th></th>\n",
       "      <th>Aggregation Function</th>\n",
       "      <th>count</th>\n",
       "      <th>mean</th>\n",
       "      <th>std</th>\n",
       "      <th>count</th>\n",
       "      <th>mean</th>\n",
       "      <th>std</th>\n",
       "      <th>count</th>\n",
       "      <th>mean</th>\n",
       "      <th>std</th>\n",
       "      <th>count</th>\n",
       "      <th>...</th>\n",
       "      <th>std</th>\n",
       "      <th>count</th>\n",
       "      <th>mean</th>\n",
       "      <th>std</th>\n",
       "      <th>count</th>\n",
       "      <th>mean</th>\n",
       "      <th>std</th>\n",
       "      <th>count</th>\n",
       "      <th>mean</th>\n",
       "      <th>std</th>\n",
       "    </tr>\n",
       "    <tr>\n",
       "      <th>subject_id</th>\n",
       "      <th>hadm_id</th>\n",
       "      <th>icustay_id</th>\n",
       "      <th>hours_in</th>\n",
       "      <th></th>\n",
       "      <th></th>\n",
       "      <th></th>\n",
       "      <th></th>\n",
       "      <th></th>\n",
       "      <th></th>\n",
       "      <th></th>\n",
       "      <th></th>\n",
       "      <th></th>\n",
       "      <th></th>\n",
       "      <th></th>\n",
       "      <th></th>\n",
       "      <th></th>\n",
       "      <th></th>\n",
       "      <th></th>\n",
       "      <th></th>\n",
       "      <th></th>\n",
       "      <th></th>\n",
       "      <th></th>\n",
       "      <th></th>\n",
       "      <th></th>\n",
       "    </tr>\n",
       "  </thead>\n",
       "  <tbody>\n",
       "  </tbody>\n",
       "</table>\n",
       "<p>0 rows × 84 columns</p>\n",
       "</div>"
      ],
      "text/plain": [
       "Empty DataFrame\n",
       "Columns: [(BUN, count), (BUN, mean), (BUN, std), (Hct, count), (Hct, mean), (Hct, std), (Hgb, count), (Hgb, mean), (Hgb, std), (MCH, count), (MCH, mean), (MCH, std), (MCHC, count), (MCHC, mean), (MCHC, std), (MCV, count), (MCV, mean), (MCV, std), (RBC, count), (RBC, mean), (RBC, std), (RDW, count), (RDW, mean), (RDW, std), (WBC x 1000, count), (WBC x 1000, mean), (WBC x 1000, std), (anion gap, count), (anion gap, mean), (anion gap, std), (bedside glucose, count), (bedside glucose, mean), (bedside glucose, std), (bicarbonate, count), (bicarbonate, mean), (bicarbonate, std), (calcium, count), (calcium, mean), (calcium, std), (chloride, count), (chloride, mean), (chloride, std), (creatinine, count), (creatinine, mean), (creatinine, std), (glucose, count), (glucose, mean), (glucose, std), (platelets x 1000, count), (platelets x 1000, mean), (platelets x 1000, std), (potassium, count), (potassium, mean), (potassium, std), (sodium, count), (sodium, mean), (sodium, std), (sao2, count), (sao2, mean), (sao2, std), (heart_rate, count), (heart_rate, mean), (heart_rate, std), (respiratory_rate, count), (respiratory_rate, mean), (respiratory_rate, std), (st1, count), (st1, mean), (st1, std), (st2, count), (st2, mean), (st2, std), (st3, count), (st3, mean), (st3, std), (noninvasive_systolic, count), (noninvasive_systolic, mean), (noninvasive_systolic, std), (noninvasive_diastolic, count), (noninvasive_diastolic, mean), (noninvasive_diastolic, std), (noninvasive_mean, count), (noninvasive_mean, mean), (noninvasive_mean, std)]\n",
       "Index: []\n",
       "\n",
       "[0 rows x 84 columns]"
      ]
     },
     "metadata": {},
     "output_type": "display_data"
    }
   ],
   "source": [
    "blind_display(labs_and_vitals_df, blinded=BLINDED)"
   ]
  },
  {
   "cell_type": "markdown",
   "metadata": {},
   "source": [
    "### Extract Treatments"
   ]
  },
  {
   "cell_type": "code",
   "execution_count": 15,
   "metadata": {},
   "outputs": [],
   "source": [
    "def merge_treatment_lists(lists):\n",
    "    out_list = [set([]) for _ in range(max(len(l) for l in lists.values))]\n",
    "    for l in lists:\n",
    "        for i, e in enumerate(l): out_list[i].update([e])\n",
    "    return out_list"
   ]
  },
  {
   "cell_type": "code",
   "execution_count": 16,
   "metadata": {},
   "outputs": [
    {
     "name": "stdout",
     "output_type": "stream",
     "text": [
      "Took 0.8994770407676697 minutes\n"
     ]
    }
   ],
   "source": [
    "start = time.time()\n",
    "\n",
    "treatments_df = querier.query(query_file=TREATMENTS_QUERY_PATH)\n",
    "treatments_df.set_index(labs_and_vitals_df.index.names, inplace=True)\n",
    "treatments_df['treatment_list'] = treatments_df.treatment_string.str.split('|')\n",
    "treatments_df = treatments_df.groupby(\n",
    "    treatments_df.index.names\n",
    ")[['treatment_list']].agg(merge_treatment_lists)\n",
    "\n",
    "treatments_df['treatment_area'] = treatments_df['treatment_list'].apply(\n",
    "    lambda x: x[0] if x else np.NaN\n",
    ")\n",
    "treatments_df['specific_treatment'] = treatments_df['treatment_list'].apply(\n",
    "    lambda x: x[-1] if x else np.NaN\n",
    ")\n",
    "\n",
    "end = time.time()\n",
    "print(f\"Took {(end - start)/60} minutes\")"
   ]
  },
  {
   "cell_type": "code",
   "execution_count": 17,
   "metadata": {},
   "outputs": [
    {
     "name": "stdout",
     "output_type": "stream",
     "text": [
      "treatments_df.shape:  (224262, 3)\n"
     ]
    },
    {
     "data": {
      "text/html": [
       "<div>\n",
       "<style scoped>\n",
       "    .dataframe tbody tr th:only-of-type {\n",
       "        vertical-align: middle;\n",
       "    }\n",
       "\n",
       "    .dataframe tbody tr th {\n",
       "        vertical-align: top;\n",
       "    }\n",
       "\n",
       "    .dataframe thead th {\n",
       "        text-align: right;\n",
       "    }\n",
       "</style>\n",
       "<table border=\"1\" class=\"dataframe\">\n",
       "  <thead>\n",
       "    <tr style=\"text-align: right;\">\n",
       "      <th></th>\n",
       "      <th></th>\n",
       "      <th></th>\n",
       "      <th></th>\n",
       "      <th>treatment_list</th>\n",
       "      <th>treatment_area</th>\n",
       "      <th>specific_treatment</th>\n",
       "    </tr>\n",
       "    <tr>\n",
       "      <th>subject_id</th>\n",
       "      <th>hadm_id</th>\n",
       "      <th>icustay_id</th>\n",
       "      <th>hours_in</th>\n",
       "      <th></th>\n",
       "      <th></th>\n",
       "      <th></th>\n",
       "    </tr>\n",
       "  </thead>\n",
       "  <tbody>\n",
       "  </tbody>\n",
       "</table>\n",
       "</div>"
      ],
      "text/plain": [
       "Empty DataFrame\n",
       "Columns: [treatment_list, treatment_area, specific_treatment]\n",
       "Index: []"
      ]
     },
     "metadata": {},
     "output_type": "display_data"
    }
   ],
   "source": [
    "blind_display(treatments_df, blinded=BLINDED)"
   ]
  },
  {
   "cell_type": "code",
   "execution_count": 18,
   "metadata": {},
   "outputs": [],
   "source": [
    "treatments_for_joining = treatments_df.copy()\n",
    "treatments_for_joining.columns = pd.MultiIndex.from_tuples([\n",
    "    ('treatment', c) for c in treatments_for_joining.columns\n",
    "])\n",
    "\n",
    "labs_vitals_treatments_df = labs_and_vitals_df.join(\n",
    "    treatments_for_joining, how='outer'\n",
    ")"
   ]
  },
  {
   "cell_type": "code",
   "execution_count": 19,
   "metadata": {},
   "outputs": [
    {
     "name": "stdout",
     "output_type": "stream",
     "text": [
      "labs_vitals_treatments_df.shape:  (7239476, 87)\n"
     ]
    },
    {
     "data": {
      "text/html": [
       "<div>\n",
       "<style scoped>\n",
       "    .dataframe tbody tr th:only-of-type {\n",
       "        vertical-align: middle;\n",
       "    }\n",
       "\n",
       "    .dataframe tbody tr th {\n",
       "        vertical-align: top;\n",
       "    }\n",
       "\n",
       "    .dataframe thead tr th {\n",
       "        text-align: left;\n",
       "    }\n",
       "\n",
       "    .dataframe thead tr:last-of-type th {\n",
       "        text-align: right;\n",
       "    }\n",
       "</style>\n",
       "<table border=\"1\" class=\"dataframe\">\n",
       "  <thead>\n",
       "    <tr>\n",
       "      <th></th>\n",
       "      <th></th>\n",
       "      <th></th>\n",
       "      <th>itemid</th>\n",
       "      <th colspan=\"3\" halign=\"left\">BUN</th>\n",
       "      <th colspan=\"3\" halign=\"left\">Hct</th>\n",
       "      <th colspan=\"3\" halign=\"left\">Hgb</th>\n",
       "      <th>MCH</th>\n",
       "      <th>...</th>\n",
       "      <th>noninvasive_systolic</th>\n",
       "      <th colspan=\"3\" halign=\"left\">noninvasive_diastolic</th>\n",
       "      <th colspan=\"3\" halign=\"left\">noninvasive_mean</th>\n",
       "      <th colspan=\"3\" halign=\"left\">treatment</th>\n",
       "    </tr>\n",
       "    <tr>\n",
       "      <th></th>\n",
       "      <th></th>\n",
       "      <th></th>\n",
       "      <th>Aggregation Function</th>\n",
       "      <th>count</th>\n",
       "      <th>mean</th>\n",
       "      <th>std</th>\n",
       "      <th>count</th>\n",
       "      <th>mean</th>\n",
       "      <th>std</th>\n",
       "      <th>count</th>\n",
       "      <th>mean</th>\n",
       "      <th>std</th>\n",
       "      <th>count</th>\n",
       "      <th>...</th>\n",
       "      <th>std</th>\n",
       "      <th>count</th>\n",
       "      <th>mean</th>\n",
       "      <th>std</th>\n",
       "      <th>count</th>\n",
       "      <th>mean</th>\n",
       "      <th>std</th>\n",
       "      <th>treatment_list</th>\n",
       "      <th>treatment_area</th>\n",
       "      <th>specific_treatment</th>\n",
       "    </tr>\n",
       "    <tr>\n",
       "      <th>subject_id</th>\n",
       "      <th>hadm_id</th>\n",
       "      <th>icustay_id</th>\n",
       "      <th>hours_in</th>\n",
       "      <th></th>\n",
       "      <th></th>\n",
       "      <th></th>\n",
       "      <th></th>\n",
       "      <th></th>\n",
       "      <th></th>\n",
       "      <th></th>\n",
       "      <th></th>\n",
       "      <th></th>\n",
       "      <th></th>\n",
       "      <th></th>\n",
       "      <th></th>\n",
       "      <th></th>\n",
       "      <th></th>\n",
       "      <th></th>\n",
       "      <th></th>\n",
       "      <th></th>\n",
       "      <th></th>\n",
       "      <th></th>\n",
       "      <th></th>\n",
       "      <th></th>\n",
       "    </tr>\n",
       "  </thead>\n",
       "  <tbody>\n",
       "  </tbody>\n",
       "</table>\n",
       "<p>0 rows × 87 columns</p>\n",
       "</div>"
      ],
      "text/plain": [
       "Empty DataFrame\n",
       "Columns: [(BUN, count), (BUN, mean), (BUN, std), (Hct, count), (Hct, mean), (Hct, std), (Hgb, count), (Hgb, mean), (Hgb, std), (MCH, count), (MCH, mean), (MCH, std), (MCHC, count), (MCHC, mean), (MCHC, std), (MCV, count), (MCV, mean), (MCV, std), (RBC, count), (RBC, mean), (RBC, std), (RDW, count), (RDW, mean), (RDW, std), (WBC x 1000, count), (WBC x 1000, mean), (WBC x 1000, std), (anion gap, count), (anion gap, mean), (anion gap, std), (bedside glucose, count), (bedside glucose, mean), (bedside glucose, std), (bicarbonate, count), (bicarbonate, mean), (bicarbonate, std), (calcium, count), (calcium, mean), (calcium, std), (chloride, count), (chloride, mean), (chloride, std), (creatinine, count), (creatinine, mean), (creatinine, std), (glucose, count), (glucose, mean), (glucose, std), (platelets x 1000, count), (platelets x 1000, mean), (platelets x 1000, std), (potassium, count), (potassium, mean), (potassium, std), (sodium, count), (sodium, mean), (sodium, std), (sao2, count), (sao2, mean), (sao2, std), (heart_rate, count), (heart_rate, mean), (heart_rate, std), (respiratory_rate, count), (respiratory_rate, mean), (respiratory_rate, std), (st1, count), (st1, mean), (st1, std), (st2, count), (st2, mean), (st2, std), (st3, count), (st3, mean), (st3, std), (noninvasive_systolic, count), (noninvasive_systolic, mean), (noninvasive_systolic, std), (noninvasive_diastolic, count), (noninvasive_diastolic, mean), (noninvasive_diastolic, std), (noninvasive_mean, count), (noninvasive_mean, mean), (noninvasive_mean, std), (treatment, treatment_list), (treatment, treatment_area), (treatment, specific_treatment)]\n",
       "Index: []\n",
       "\n",
       "[0 rows x 87 columns]"
      ]
     },
     "metadata": {},
     "output_type": "display_data"
    }
   ],
   "source": [
    "blind_display(labs_vitals_treatments_df, blinded=BLINDED)"
   ]
  },
  {
   "cell_type": "code",
   "execution_count": 20,
   "metadata": {},
   "outputs": [],
   "source": [
    "assert not labs_vitals_treatments_df.isnull().all(axis=0).any()"
   ]
  }
 ],
 "metadata": {
  "kernelspec": {
   "display_name": "Python 3",
   "language": "python",
   "name": "python3"
  },
  "language_info": {
   "codemirror_mode": {
    "name": "ipython",
    "version": 3
   },
   "file_extension": ".py",
   "mimetype": "text/x-python",
   "name": "python",
   "nbconvert_exporter": "python",
   "pygments_lexer": "ipython3",
   "version": "3.6.8"
  }
 },
 "nbformat": 4,
 "nbformat_minor": 2
}
